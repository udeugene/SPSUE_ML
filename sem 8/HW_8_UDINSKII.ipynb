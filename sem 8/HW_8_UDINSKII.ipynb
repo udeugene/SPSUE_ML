{
 "cells": [
  {
   "cell_type": "code",
   "execution_count": 1,
   "id": "536a1a77",
   "metadata": {
    "ExecuteTime": {
     "end_time": "2021-11-23T20:39:08.580211Z",
     "start_time": "2021-11-23T20:39:07.896916Z"
    }
   },
   "outputs": [],
   "source": [
    "import matplotlib\n",
    "import matplotlib.pyplot as plt\n",
    "import seaborn as sns\n",
    "from matplotlib import style\n",
    "matplotlib.rcParams.update(matplotlib.rcParamsDefault)\n",
    "%matplotlib inline\n",
    "style.use('bmh')\n",
    "\n",
    "import pandas as pd\n",
    "pd.options.mode.chained_assignment = None\n",
    "import numpy as np\n",
    "\n",
    "from sklearn.preprocessing import StandardScaler\n",
    "from sklearn.tree import DecisionTreeClassifier"
   ]
  },
  {
   "cell_type": "markdown",
   "id": "46f21836",
   "metadata": {
    "ExecuteTime": {
     "end_time": "2021-11-16T15:26:40.655046Z",
     "start_time": "2021-11-16T15:26:40.502489Z"
    }
   },
   "source": [
    "Импортируем обработанный датасет и убираем выбросы"
   ]
  },
  {
   "cell_type": "code",
   "execution_count": 2,
   "id": "5b5300ae",
   "metadata": {
    "ExecuteTime": {
     "end_time": "2021-11-23T19:08:26.921177Z",
     "start_time": "2021-11-23T19:08:23.963496Z"
    }
   },
   "outputs": [],
   "source": [
    "df_raw = pd.read_csv('bank.csv', sep = ';')\n",
    "df = pd.read_csv('data_scaled.csv')\n",
    "\n",
    "data_types = df_raw.dtypes\n",
    "int_cols = [df_raw.columns[i] for i in range(df_raw.shape[1]) if data_types[i] == 'int64']\n",
    "float_cols = [df_raw.columns[i] for i in range(df_raw.shape[1]) if data_types[i] == 'float64']\n",
    "cat_cols = [df_raw.columns[i] for i in range(df_raw.shape[1]) if data_types[i] == 'O']\n",
    "y = cat_cols.pop(-1)\n",
    "\n",
    "from sklearn.neighbors import LocalOutlierFactor\n",
    "\n",
    "scaler = StandardScaler()\n",
    "df_out = scaler.fit_transform(df_raw[[*int_cols, *float_cols]])\n",
    "\n",
    "lof = LocalOutlierFactor(n_neighbors= 20)\n",
    "outliers_data = lof.fit_predict(df_out)\n",
    "mask = outliers_data != -1\n",
    "\n",
    "df_raw = df_raw[mask]\n",
    "df = df[mask]"
   ]
  },
  {
   "cell_type": "code",
   "execution_count": 3,
   "id": "ea6802ab",
   "metadata": {
    "ExecuteTime": {
     "end_time": "2021-11-23T19:08:26.951392Z",
     "start_time": "2021-11-23T19:08:26.923097Z"
    }
   },
   "outputs": [],
   "source": [
    "X = df.values\n",
    "y = df_raw['y'].replace(\n",
    "                {'yes':1, 'no':0}\n",
    ")"
   ]
  },
  {
   "cell_type": "markdown",
   "id": "a260fe6b",
   "metadata": {
    "ExecuteTime": {
     "end_time": "2021-11-16T16:30:50.644795Z",
     "start_time": "2021-11-16T16:30:50.631856Z"
    }
   },
   "source": [
    "Просто напомним, что классы несбалансированы. Как минимум не стоит использовать accuracy как метрику, как максимум как-то бороться с несбалансированностью классов."
   ]
  },
  {
   "cell_type": "code",
   "execution_count": 4,
   "id": "0e80cd94",
   "metadata": {
    "ExecuteTime": {
     "end_time": "2021-11-23T19:08:27.169180Z",
     "start_time": "2021-11-23T19:08:26.953389Z"
    }
   },
   "outputs": [
    {
     "data": {
      "image/png": "[encoded data removed]",
      "text/plain": [
       "<Figure size 432x288 with 1 Axes>"
      ]
     },
     "metadata": {
      "needs_background": "light"
     },
     "output_type": "display_data"
    }
   ],
   "source": [
    "df_raw['y'].value_counts(normalize = True).plot.bar();"
   ]
  },
  {
   "cell_type": "markdown",
   "id": "73a595c0",
   "metadata": {},
   "source": [
    "Я раньше писал такую штуку для другой работы, просто скопирую сюда и поправлю. Здесь производится поиск по сетке с кросс-валидацией и плоттится значение метрики с ошибками для отбора гиперпараметра по сетке"
   ]
  },
  {
   "cell_type": "code",
   "execution_count": 5,
   "id": "42f239ad",
   "metadata": {
    "ExecuteTime": {
     "end_time": "2021-11-23T19:08:27.184433Z",
     "start_time": "2021-11-23T19:08:27.170566Z"
    }
   },
   "outputs": [],
   "source": [
    "from sklearn.model_selection import GridSearchCV\n",
    "from sklearn.neighbors import KNeighborsClassifier\n",
    "from sklearn.model_selection import train_test_split"
   ]
  },
  {
   "cell_type": "code",
   "execution_count": 6,
   "id": "7304d3b0",
   "metadata": {
    "ExecuteTime": {
     "end_time": "2021-11-23T19:08:27.215509Z",
     "start_time": "2021-11-23T19:08:27.186429Z"
    }
   },
   "outputs": [],
   "source": [
    "# тут надо было бы стадартизовать трейн и тест отдельно, но ладно\n",
    "X_train, X_test, y_train, y_test = train_test_split(X, y, \n",
    "                                                    train_size=0.8,\n",
    "                                                    random_state=69)"
   ]
  },
  {
   "cell_type": "code",
   "execution_count": 10,
   "id": "9551051e",
   "metadata": {
    "ExecuteTime": {
     "end_time": "2021-11-23T19:10:54.962686Z",
     "start_time": "2021-11-23T19:10:54.951741Z"
    }
   },
   "outputs": [],
   "source": [
    "from matplotlib.pyplot import cm\n",
    "\n",
    "def search_and_draw(X, y, model, param_name, grid, param_scale='ordinary', draw=True, multi = False, scoring = 'roc_auc'):\n",
    "    parameters = {param_name: grid}\n",
    "    \n",
    "    CV_model = GridSearchCV(estimator=model, \n",
    "                            param_grid=parameters,\n",
    "                            cv=3, \n",
    "                            scoring= scoring,\n",
    "                            n_jobs=-1, \n",
    "                            verbose=1,\n",
    "                           refit = False)\n",
    "    CV_model.fit(X, y)\n",
    "    \n",
    "    if draw:\n",
    "        plt.figure(figsize=(15,8))\n",
    "        plt.title('choose ' + param_name)\n",
    "        if (param_scale == 'log'):\n",
    "            plt.xscale('log')\n",
    "        if multi:\n",
    "            color = iter(cm.rainbow(np.linspace(0, 1, len(scoring))))\n",
    "            \n",
    "            for score in scoring:\n",
    "                means = CV_model.cv_results_['mean_test_' + score]\n",
    "                error = CV_model.cv_results_['std_test_' + score]\n",
    "                \n",
    "                plt.plot(grid, means, label='mean values of ' + score, c=next(color), lw=2.5)\n",
    "                plt.fill_between(grid, means - 2 * error,\n",
    "                                 means + 2 * error, \n",
    "                     color='green', alpha=0.35)\n",
    "                \n",
    "            legend_box = plt.legend(framealpha=1).get_frame()\n",
    "            legend_box.set_facecolor(\"white\")\n",
    "            legend_box.set_edgecolor(\"black\")\n",
    "            plt.xlabel('parameter')\n",
    "            plt.ylabel('score values')\n",
    "            plt.show()\n",
    "        else:\n",
    "            \n",
    "            means = CV_model.cv_results_['mean_test_score']\n",
    "            error = CV_model.cv_results_['std_test_score']\n",
    "            plt.plot(grid, means, label='mean values of score', color='red', lw=3)\n",
    "\n",
    "            plt.fill_between(grid, means - 2 * error, means + 2 * error, \n",
    "                             color='green', label='filled area between errors', alpha=0.5)\n",
    "\n",
    "\n",
    "    return CV_model"
   ]
  },
  {
   "cell_type": "code",
   "execution_count": 8,
   "id": "3ddfa273",
   "metadata": {
    "ExecuteTime": {
     "end_time": "2021-11-23T19:08:27.247166Z",
     "start_time": "2021-11-23T19:08:27.235587Z"
    }
   },
   "outputs": [],
   "source": [
    "model = KNeighborsClassifier()\n",
    "param_name = 'n_neighbors'\n",
    "grid = np.arange(2, 40, 2)\n",
    "param_scale = 'ordinary'\n",
    "scoring = ['accuracy','f1', 'average_precision', 'recall', 'roc_auc']"
   ]
  },
  {
   "cell_type": "code",
   "execution_count": null,
   "id": "d5758855",
   "metadata": {
    "ExecuteTime": {
     "start_time": "2021-11-23T19:11:01.428Z"
    }
   },
   "outputs": [
    {
     "name": "stdout",
     "output_type": "stream",
     "text": [
      "Fitting 3 folds for each of 19 candidates, totalling 57 fits\n"
     ]
    }
   ],
   "source": [
    "selection = search_and_draw(X_train, y_train, model, param_name, grid, param_scale, scoring = scoring, multi = True)"
   ]
  },
  {
   "cell_type": "markdown",
   "id": "131d2390",
   "metadata": {},
   "source": [
    "Как и ожидалось, accuracy показывает аномально хорошее качество из-за несбалансированности датасета.  \n",
    "Recall оказался низким - много наблюдений неверно классифицировалось как False Negative \n",
    "\n",
    "Лучше всего отобрать гиперпараметр по f1 метрике - по ней видно переобучение"
   ]
  },
  {
   "cell_type": "code",
   "execution_count": null,
   "id": "d815ad23",
   "metadata": {
    "ExecuteTime": {
     "end_time": "2021-11-23T19:10:46.822446Z",
     "start_time": "2021-11-23T19:08:23.337Z"
    }
   },
   "outputs": [],
   "source": [
    "max_index = selection.cv_results_['mean_test_f1'].argmax()\n",
    "max_hyperpar = grid[max_index]"
   ]
  },
  {
   "cell_type": "code",
   "execution_count": null,
   "id": "2c56474c",
   "metadata": {
    "ExecuteTime": {
     "end_time": "2021-11-23T19:10:46.824477Z",
     "start_time": "2021-11-23T19:08:23.338Z"
    }
   },
   "outputs": [],
   "source": [
    "KNN_best = KNeighborsClassifier(n_neighbors = max_hyperpar)\n",
    "KNN_best.fit(X_train, y_train)\n",
    "y_pred = KNN_best.predict(X_test)"
   ]
  },
  {
   "cell_type": "code",
   "execution_count": null,
   "id": "b91bfa0c",
   "metadata": {
    "ExecuteTime": {
     "end_time": "2021-11-23T19:10:46.825438Z",
     "start_time": "2021-11-23T19:08:23.339Z"
    },
    "code_folding": []
   },
   "outputs": [],
   "source": [
    "from sklearn.metrics import accuracy_score, f1_score, recall_score, roc_auc_score\n",
    "best_scores = {\n",
    "'best_accuracy' :  accuracy_score(y_test, y_pred),\n",
    "'best_f1' : f1_score(y_test, y_pred),\n",
    "'best_recall' : recall_score(y_test, y_pred),\n",
    "'best_roc_auc' : roc_auc_score(y_test, y_pred)\n",
    "}"
   ]
  },
  {
   "cell_type": "code",
   "execution_count": null,
   "id": "b1cabe70",
   "metadata": {
    "ExecuteTime": {
     "end_time": "2021-11-23T19:10:46.827435Z",
     "start_time": "2021-11-23T19:08:23.341Z"
    }
   },
   "outputs": [],
   "source": [
    "best_scores"
   ]
  },
  {
   "cell_type": "code",
   "execution_count": null,
   "id": "90628172",
   "metadata": {
    "ExecuteTime": {
     "end_time": "2021-11-23T19:10:46.829428Z",
     "start_time": "2021-11-23T19:08:23.342Z"
    }
   },
   "outputs": [],
   "source": [
    "from sklearn.metrics import confusion_matrix\n",
    "\n",
    "cf_matrix = confusion_matrix(y_test, y_pred)"
   ]
  },
  {
   "cell_type": "code",
   "execution_count": null,
   "id": "0e32781c",
   "metadata": {
    "ExecuteTime": {
     "end_time": "2021-11-23T19:10:46.830425Z",
     "start_time": "2021-11-23T19:08:23.343Z"
    }
   },
   "outputs": [],
   "source": [
    "sns.heatmap(cf_matrix/np.sum(cf_matrix), annot=True, \n",
    "            fmt='.2%', cmap='Blues')"
   ]
  }
 ],
 "metadata": {
  "kernelspec": {
   "display_name": "Python 3",
   "language": "python",
   "name": "python3"
  },
  "language_info": {
   "codemirror_mode": {
    "name": "ipython",
    "version": 3
   },
   "file_extension": ".py",
   "mimetype": "text/x-python",
   "name": "python",
   "nbconvert_exporter": "python",
   "pygments_lexer": "ipython3",
   "version": "3.8.11"
  },
  "varInspector": {
   "cols": {
    "lenName": 16,
    "lenType": 16,
    "lenVar": 40
   },
   "kernels_config": {
    "python": {
     "delete_cmd_postfix": "",
     "delete_cmd_prefix": "del ",
     "library": "var_list.py",
     "varRefreshCmd": "print(var_dic_list())"
    },
    "r": {
     "delete_cmd_postfix": ") ",
     "delete_cmd_prefix": "rm(",
     "library": "var_list.r",
     "varRefreshCmd": "cat(var_dic_list()) "
    }
   },
   "types_to_exclude": [
    "module",
    "function",
    "builtin_function_or_method",
    "instance",
    "_Feature"
   ],
   "window_display": true
  }
 },
 "nbformat": 4,
 "nbformat_minor": 5
}
