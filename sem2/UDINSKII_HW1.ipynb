{
 "cells": [
  {
   "cell_type": "code",
   "execution_count": 65,
   "id": "4765af5a",
   "metadata": {},
   "outputs": [],
   "source": [
    "import numpy as np\n",
    "import pandas as pd\n",
    "\n",
    "import matplotlib.pyplot as plt\n",
    "from matplotlib.lines import Line2D\n",
    "%matplotlib inline\n",
    "import seaborn as sns\n",
    "import statsmodels.api as sm\n",
    "from scipy import stats\n",
    "\n",
    "from matplotlib import style\n",
    "style.use('ggplot')\n",
    "style.use('seaborn-ticks')"
   ]
  },
  {
   "cell_type": "markdown",
   "id": "0ae41063",
   "metadata": {},
   "source": [
    "## Разведочный анализ"
   ]
  },
  {
   "cell_type": "code",
   "execution_count": 66,
   "id": "3f9c2cc1",
   "metadata": {},
   "outputs": [
    {
     "data": {
      "text/plain": [
       "(41188, 21)"
      ]
     },
     "execution_count": 66,
     "metadata": {},
     "output_type": "execute_result"
    }
   ],
   "source": [
    "df = pd.read_csv('bank.csv', delimiter=';')\n",
    "df.shape"
   ]
  },
  {
   "cell_type": "code",
   "execution_count": 67,
   "id": "e308e613",
   "metadata": {},
   "outputs": [
    {
     "data": {
      "text/html": [
       "<div>\n",
       "<style scoped>\n",
       "    .dataframe tbody tr th:only-of-type {\n",
       "        vertical-align: middle;\n",
       "    }\n",
       "\n",
       "    .dataframe tbody tr th {\n",
       "        vertical-align: top;\n",
       "    }\n",
       "\n",
       "    .dataframe thead th {\n",
       "        text-align: right;\n",
       "    }\n",
       "</style>\n",
       "<table border=\"1\" class=\"dataframe\">\n",
       "  <thead>\n",
       "    <tr style=\"text-align: right;\">\n",
       "      <th></th>\n",
       "      <th>age</th>\n",
       "      <th>job</th>\n",
       "      <th>marital</th>\n",
       "      <th>education</th>\n",
       "      <th>default</th>\n",
       "      <th>housing</th>\n",
       "      <th>loan</th>\n",
       "      <th>contact</th>\n",
       "      <th>month</th>\n",
       "      <th>day_of_week</th>\n",
       "      <th>...</th>\n",
       "      <th>campaign</th>\n",
       "      <th>pdays</th>\n",
       "      <th>previous</th>\n",
       "      <th>poutcome</th>\n",
       "      <th>emp.var.rate</th>\n",
       "      <th>cons.price.idx</th>\n",
       "      <th>cons.conf.idx</th>\n",
       "      <th>euribor3m</th>\n",
       "      <th>nr.employed</th>\n",
       "      <th>y</th>\n",
       "    </tr>\n",
       "  </thead>\n",
       "  <tbody>\n",
       "    <tr>\n",
       "      <th>0</th>\n",
       "      <td>56</td>\n",
       "      <td>housemaid</td>\n",
       "      <td>married</td>\n",
       "      <td>basic.4y</td>\n",
       "      <td>no</td>\n",
       "      <td>no</td>\n",
       "      <td>no</td>\n",
       "      <td>telephone</td>\n",
       "      <td>may</td>\n",
       "      <td>mon</td>\n",
       "      <td>...</td>\n",
       "      <td>1</td>\n",
       "      <td>999</td>\n",
       "      <td>0</td>\n",
       "      <td>nonexistent</td>\n",
       "      <td>1.1</td>\n",
       "      <td>93.994</td>\n",
       "      <td>-36.4</td>\n",
       "      <td>4.857</td>\n",
       "      <td>5191.0</td>\n",
       "      <td>no</td>\n",
       "    </tr>\n",
       "    <tr>\n",
       "      <th>1</th>\n",
       "      <td>57</td>\n",
       "      <td>services</td>\n",
       "      <td>married</td>\n",
       "      <td>high.school</td>\n",
       "      <td>unknown</td>\n",
       "      <td>no</td>\n",
       "      <td>no</td>\n",
       "      <td>telephone</td>\n",
       "      <td>may</td>\n",
       "      <td>mon</td>\n",
       "      <td>...</td>\n",
       "      <td>1</td>\n",
       "      <td>999</td>\n",
       "      <td>0</td>\n",
       "      <td>nonexistent</td>\n",
       "      <td>1.1</td>\n",
       "      <td>93.994</td>\n",
       "      <td>-36.4</td>\n",
       "      <td>4.857</td>\n",
       "      <td>5191.0</td>\n",
       "      <td>no</td>\n",
       "    </tr>\n",
       "    <tr>\n",
       "      <th>2</th>\n",
       "      <td>37</td>\n",
       "      <td>services</td>\n",
       "      <td>married</td>\n",
       "      <td>high.school</td>\n",
       "      <td>no</td>\n",
       "      <td>yes</td>\n",
       "      <td>no</td>\n",
       "      <td>telephone</td>\n",
       "      <td>may</td>\n",
       "      <td>mon</td>\n",
       "      <td>...</td>\n",
       "      <td>1</td>\n",
       "      <td>999</td>\n",
       "      <td>0</td>\n",
       "      <td>nonexistent</td>\n",
       "      <td>1.1</td>\n",
       "      <td>93.994</td>\n",
       "      <td>-36.4</td>\n",
       "      <td>4.857</td>\n",
       "      <td>5191.0</td>\n",
       "      <td>no</td>\n",
       "    </tr>\n",
       "    <tr>\n",
       "      <th>3</th>\n",
       "      <td>40</td>\n",
       "      <td>admin.</td>\n",
       "      <td>married</td>\n",
       "      <td>basic.6y</td>\n",
       "      <td>no</td>\n",
       "      <td>no</td>\n",
       "      <td>no</td>\n",
       "      <td>telephone</td>\n",
       "      <td>may</td>\n",
       "      <td>mon</td>\n",
       "      <td>...</td>\n",
       "      <td>1</td>\n",
       "      <td>999</td>\n",
       "      <td>0</td>\n",
       "      <td>nonexistent</td>\n",
       "      <td>1.1</td>\n",
       "      <td>93.994</td>\n",
       "      <td>-36.4</td>\n",
       "      <td>4.857</td>\n",
       "      <td>5191.0</td>\n",
       "      <td>no</td>\n",
       "    </tr>\n",
       "    <tr>\n",
       "      <th>4</th>\n",
       "      <td>56</td>\n",
       "      <td>services</td>\n",
       "      <td>married</td>\n",
       "      <td>high.school</td>\n",
       "      <td>no</td>\n",
       "      <td>no</td>\n",
       "      <td>yes</td>\n",
       "      <td>telephone</td>\n",
       "      <td>may</td>\n",
       "      <td>mon</td>\n",
       "      <td>...</td>\n",
       "      <td>1</td>\n",
       "      <td>999</td>\n",
       "      <td>0</td>\n",
       "      <td>nonexistent</td>\n",
       "      <td>1.1</td>\n",
       "      <td>93.994</td>\n",
       "      <td>-36.4</td>\n",
       "      <td>4.857</td>\n",
       "      <td>5191.0</td>\n",
       "      <td>no</td>\n",
       "    </tr>\n",
       "  </tbody>\n",
       "</table>\n",
       "<p>5 rows × 21 columns</p>\n",
       "</div>"
      ],
      "text/plain": [
       "   age        job  marital    education  default housing loan    contact  \\\n",
       "0   56  housemaid  married     basic.4y       no      no   no  telephone   \n",
       "1   57   services  married  high.school  unknown      no   no  telephone   \n",
       "2   37   services  married  high.school       no     yes   no  telephone   \n",
       "3   40     admin.  married     basic.6y       no      no   no  telephone   \n",
       "4   56   services  married  high.school       no      no  yes  telephone   \n",
       "\n",
       "  month day_of_week  ...  campaign  pdays  previous     poutcome emp.var.rate  \\\n",
       "0   may         mon  ...         1    999         0  nonexistent          1.1   \n",
       "1   may         mon  ...         1    999         0  nonexistent          1.1   \n",
       "2   may         mon  ...         1    999         0  nonexistent          1.1   \n",
       "3   may         mon  ...         1    999         0  nonexistent          1.1   \n",
       "4   may         mon  ...         1    999         0  nonexistent          1.1   \n",
       "\n",
       "   cons.price.idx  cons.conf.idx  euribor3m  nr.employed   y  \n",
       "0          93.994          -36.4      4.857       5191.0  no  \n",
       "1          93.994          -36.4      4.857       5191.0  no  \n",
       "2          93.994          -36.4      4.857       5191.0  no  \n",
       "3          93.994          -36.4      4.857       5191.0  no  \n",
       "4          93.994          -36.4      4.857       5191.0  no  \n",
       "\n",
       "[5 rows x 21 columns]"
      ]
     },
     "execution_count": 67,
     "metadata": {},
     "output_type": "execute_result"
    }
   ],
   "source": [
    "df.head(5)"
   ]
  },
  {
   "cell_type": "markdown",
   "id": "21585bca",
   "metadata": {},
   "source": [
    "Посмотрим, есть ли пропущенные значения (их нет)"
   ]
  },
  {
   "cell_type": "code",
   "execution_count": 68,
   "id": "b5e9c109",
   "metadata": {},
   "outputs": [
    {
     "data": {
      "text/plain": [
       "age               0.0\n",
       "job               0.0\n",
       "marital           0.0\n",
       "education         0.0\n",
       "default           0.0\n",
       "housing           0.0\n",
       "loan              0.0\n",
       "contact           0.0\n",
       "month             0.0\n",
       "day_of_week       0.0\n",
       "duration          0.0\n",
       "campaign          0.0\n",
       "pdays             0.0\n",
       "previous          0.0\n",
       "poutcome          0.0\n",
       "emp.var.rate      0.0\n",
       "cons.price.idx    0.0\n",
       "cons.conf.idx     0.0\n",
       "euribor3m         0.0\n",
       "nr.employed       0.0\n",
       "y                 0.0\n",
       "dtype: float64"
      ]
     },
     "execution_count": 68,
     "metadata": {},
     "output_type": "execute_result"
    }
   ],
   "source": [
    "df.isna().mean()"
   ]
  },
  {
   "cell_type": "markdown",
   "id": "e342b1cd",
   "metadata": {},
   "source": [
    "Разделим признаки на числовые и категориальные"
   ]
  },
  {
   "cell_type": "code",
   "execution_count": 69,
   "id": "ed32aaf1",
   "metadata": {},
   "outputs": [],
   "source": [
    "data_types = df.dtypes\n",
    "cat_cols = [df.columns[i] for i in range(df.shape[1]-1) if data_types[i] == 'O']\n",
    "num_cols = [df.columns[i] for i in range(df.shape[1]-1) if data_types[i] != 'O']\n",
    "target_col = 'y'"
   ]
  },
  {
   "cell_type": "markdown",
   "id": "b4c2aad2",
   "metadata": {},
   "source": [
    "Проверим данные на наличие дубликатов"
   ]
  },
  {
   "cell_type": "code",
   "execution_count": 70,
   "id": "826ebda2",
   "metadata": {},
   "outputs": [
    {
     "data": {
      "text/plain": [
       "(12, 21)"
      ]
     },
     "execution_count": 70,
     "metadata": {},
     "output_type": "execute_result"
    }
   ],
   "source": [
    "df[df.duplicated(keep = 'first')].shape # есть 12 дубликатов, уберем их"
   ]
  },
  {
   "cell_type": "code",
   "execution_count": 71,
   "id": "2742f761",
   "metadata": {},
   "outputs": [],
   "source": [
    "df.drop_duplicates(inplace = True)"
   ]
  },
  {
   "cell_type": "markdown",
   "id": "266fa4e4",
   "metadata": {},
   "source": [
    "Посмотрим описание данных"
   ]
  },
  {
   "cell_type": "code",
   "execution_count": 72,
   "id": "b412be6a",
   "metadata": {},
   "outputs": [
    {
     "data": {
      "text/html": [
       "<div>\n",
       "<style scoped>\n",
       "    .dataframe tbody tr th:only-of-type {\n",
       "        vertical-align: middle;\n",
       "    }\n",
       "\n",
       "    .dataframe tbody tr th {\n",
       "        vertical-align: top;\n",
       "    }\n",
       "\n",
       "    .dataframe thead th {\n",
       "        text-align: right;\n",
       "    }\n",
       "</style>\n",
       "<table border=\"1\" class=\"dataframe\">\n",
       "  <thead>\n",
       "    <tr style=\"text-align: right;\">\n",
       "      <th></th>\n",
       "      <th>age</th>\n",
       "      <th>duration</th>\n",
       "      <th>campaign</th>\n",
       "      <th>pdays</th>\n",
       "      <th>previous</th>\n",
       "      <th>emp.var.rate</th>\n",
       "      <th>cons.price.idx</th>\n",
       "      <th>cons.conf.idx</th>\n",
       "      <th>euribor3m</th>\n",
       "      <th>nr.employed</th>\n",
       "    </tr>\n",
       "  </thead>\n",
       "  <tbody>\n",
       "    <tr>\n",
       "      <th>count</th>\n",
       "      <td>41176.00000</td>\n",
       "      <td>41176.000000</td>\n",
       "      <td>41176.000000</td>\n",
       "      <td>41176.000000</td>\n",
       "      <td>41176.000000</td>\n",
       "      <td>41176.000000</td>\n",
       "      <td>41176.000000</td>\n",
       "      <td>41176.000000</td>\n",
       "      <td>41176.000000</td>\n",
       "      <td>41176.000000</td>\n",
       "    </tr>\n",
       "    <tr>\n",
       "      <th>mean</th>\n",
       "      <td>40.02380</td>\n",
       "      <td>258.315815</td>\n",
       "      <td>2.567879</td>\n",
       "      <td>962.464810</td>\n",
       "      <td>0.173013</td>\n",
       "      <td>0.081922</td>\n",
       "      <td>93.575720</td>\n",
       "      <td>-40.502863</td>\n",
       "      <td>3.621293</td>\n",
       "      <td>5167.034870</td>\n",
       "    </tr>\n",
       "    <tr>\n",
       "      <th>std</th>\n",
       "      <td>10.42068</td>\n",
       "      <td>259.305321</td>\n",
       "      <td>2.770318</td>\n",
       "      <td>186.937102</td>\n",
       "      <td>0.494964</td>\n",
       "      <td>1.570883</td>\n",
       "      <td>0.578839</td>\n",
       "      <td>4.627860</td>\n",
       "      <td>1.734437</td>\n",
       "      <td>72.251364</td>\n",
       "    </tr>\n",
       "    <tr>\n",
       "      <th>min</th>\n",
       "      <td>17.00000</td>\n",
       "      <td>0.000000</td>\n",
       "      <td>1.000000</td>\n",
       "      <td>0.000000</td>\n",
       "      <td>0.000000</td>\n",
       "      <td>-3.400000</td>\n",
       "      <td>92.201000</td>\n",
       "      <td>-50.800000</td>\n",
       "      <td>0.634000</td>\n",
       "      <td>4963.600000</td>\n",
       "    </tr>\n",
       "    <tr>\n",
       "      <th>25%</th>\n",
       "      <td>32.00000</td>\n",
       "      <td>102.000000</td>\n",
       "      <td>1.000000</td>\n",
       "      <td>999.000000</td>\n",
       "      <td>0.000000</td>\n",
       "      <td>-1.800000</td>\n",
       "      <td>93.075000</td>\n",
       "      <td>-42.700000</td>\n",
       "      <td>1.344000</td>\n",
       "      <td>5099.100000</td>\n",
       "    </tr>\n",
       "    <tr>\n",
       "      <th>50%</th>\n",
       "      <td>38.00000</td>\n",
       "      <td>180.000000</td>\n",
       "      <td>2.000000</td>\n",
       "      <td>999.000000</td>\n",
       "      <td>0.000000</td>\n",
       "      <td>1.100000</td>\n",
       "      <td>93.749000</td>\n",
       "      <td>-41.800000</td>\n",
       "      <td>4.857000</td>\n",
       "      <td>5191.000000</td>\n",
       "    </tr>\n",
       "    <tr>\n",
       "      <th>75%</th>\n",
       "      <td>47.00000</td>\n",
       "      <td>319.000000</td>\n",
       "      <td>3.000000</td>\n",
       "      <td>999.000000</td>\n",
       "      <td>0.000000</td>\n",
       "      <td>1.400000</td>\n",
       "      <td>93.994000</td>\n",
       "      <td>-36.400000</td>\n",
       "      <td>4.961000</td>\n",
       "      <td>5228.100000</td>\n",
       "    </tr>\n",
       "    <tr>\n",
       "      <th>max</th>\n",
       "      <td>98.00000</td>\n",
       "      <td>4918.000000</td>\n",
       "      <td>56.000000</td>\n",
       "      <td>999.000000</td>\n",
       "      <td>7.000000</td>\n",
       "      <td>1.400000</td>\n",
       "      <td>94.767000</td>\n",
       "      <td>-26.900000</td>\n",
       "      <td>5.045000</td>\n",
       "      <td>5228.100000</td>\n",
       "    </tr>\n",
       "  </tbody>\n",
       "</table>\n",
       "</div>"
      ],
      "text/plain": [
       "               age      duration      campaign         pdays      previous  \\\n",
       "count  41176.00000  41176.000000  41176.000000  41176.000000  41176.000000   \n",
       "mean      40.02380    258.315815      2.567879    962.464810      0.173013   \n",
       "std       10.42068    259.305321      2.770318    186.937102      0.494964   \n",
       "min       17.00000      0.000000      1.000000      0.000000      0.000000   \n",
       "25%       32.00000    102.000000      1.000000    999.000000      0.000000   \n",
       "50%       38.00000    180.000000      2.000000    999.000000      0.000000   \n",
       "75%       47.00000    319.000000      3.000000    999.000000      0.000000   \n",
       "max       98.00000   4918.000000     56.000000    999.000000      7.000000   \n",
       "\n",
       "       emp.var.rate  cons.price.idx  cons.conf.idx     euribor3m   nr.employed  \n",
       "count  41176.000000    41176.000000   41176.000000  41176.000000  41176.000000  \n",
       "mean       0.081922       93.575720     -40.502863      3.621293   5167.034870  \n",
       "std        1.570883        0.578839       4.627860      1.734437     72.251364  \n",
       "min       -3.400000       92.201000     -50.800000      0.634000   4963.600000  \n",
       "25%       -1.800000       93.075000     -42.700000      1.344000   5099.100000  \n",
       "50%        1.100000       93.749000     -41.800000      4.857000   5191.000000  \n",
       "75%        1.400000       93.994000     -36.400000      4.961000   5228.100000  \n",
       "max        1.400000       94.767000     -26.900000      5.045000   5228.100000  "
      ]
     },
     "execution_count": 72,
     "metadata": {},
     "output_type": "execute_result"
    }
   ],
   "source": [
    "df[num_cols].describe()"
   ]
  },
  {
   "cell_type": "code",
   "execution_count": 73,
   "id": "a1da323a",
   "metadata": {},
   "outputs": [
    {
     "data": {
      "text/html": [
       "<div>\n",
       "<style scoped>\n",
       "    .dataframe tbody tr th:only-of-type {\n",
       "        vertical-align: middle;\n",
       "    }\n",
       "\n",
       "    .dataframe tbody tr th {\n",
       "        vertical-align: top;\n",
       "    }\n",
       "\n",
       "    .dataframe thead th {\n",
       "        text-align: right;\n",
       "    }\n",
       "</style>\n",
       "<table border=\"1\" class=\"dataframe\">\n",
       "  <thead>\n",
       "    <tr style=\"text-align: right;\">\n",
       "      <th></th>\n",
       "      <th>job</th>\n",
       "      <th>marital</th>\n",
       "      <th>education</th>\n",
       "      <th>default</th>\n",
       "      <th>housing</th>\n",
       "      <th>loan</th>\n",
       "      <th>contact</th>\n",
       "      <th>month</th>\n",
       "      <th>day_of_week</th>\n",
       "      <th>poutcome</th>\n",
       "    </tr>\n",
       "  </thead>\n",
       "  <tbody>\n",
       "    <tr>\n",
       "      <th>count</th>\n",
       "      <td>41176</td>\n",
       "      <td>41176</td>\n",
       "      <td>41176</td>\n",
       "      <td>41176</td>\n",
       "      <td>41176</td>\n",
       "      <td>41176</td>\n",
       "      <td>41176</td>\n",
       "      <td>41176</td>\n",
       "      <td>41176</td>\n",
       "      <td>41176</td>\n",
       "    </tr>\n",
       "    <tr>\n",
       "      <th>unique</th>\n",
       "      <td>12</td>\n",
       "      <td>4</td>\n",
       "      <td>8</td>\n",
       "      <td>3</td>\n",
       "      <td>3</td>\n",
       "      <td>3</td>\n",
       "      <td>2</td>\n",
       "      <td>10</td>\n",
       "      <td>5</td>\n",
       "      <td>3</td>\n",
       "    </tr>\n",
       "    <tr>\n",
       "      <th>top</th>\n",
       "      <td>admin.</td>\n",
       "      <td>married</td>\n",
       "      <td>university.degree</td>\n",
       "      <td>no</td>\n",
       "      <td>yes</td>\n",
       "      <td>no</td>\n",
       "      <td>cellular</td>\n",
       "      <td>may</td>\n",
       "      <td>thu</td>\n",
       "      <td>nonexistent</td>\n",
       "    </tr>\n",
       "    <tr>\n",
       "      <th>freq</th>\n",
       "      <td>10419</td>\n",
       "      <td>24921</td>\n",
       "      <td>12164</td>\n",
       "      <td>32577</td>\n",
       "      <td>21571</td>\n",
       "      <td>33938</td>\n",
       "      <td>26135</td>\n",
       "      <td>13767</td>\n",
       "      <td>8618</td>\n",
       "      <td>35551</td>\n",
       "    </tr>\n",
       "  </tbody>\n",
       "</table>\n",
       "</div>"
      ],
      "text/plain": [
       "           job  marital          education default housing   loan   contact  \\\n",
       "count    41176    41176              41176   41176   41176  41176     41176   \n",
       "unique      12        4                  8       3       3      3         2   \n",
       "top     admin.  married  university.degree      no     yes     no  cellular   \n",
       "freq     10419    24921              12164   32577   21571  33938     26135   \n",
       "\n",
       "        month day_of_week     poutcome  \n",
       "count   41176       41176        41176  \n",
       "unique     10           5            3  \n",
       "top       may         thu  nonexistent  \n",
       "freq    13767        8618        35551  "
      ]
     },
     "execution_count": 73,
     "metadata": {},
     "output_type": "execute_result"
    }
   ],
   "source": [
    "df[cat_cols].describe()"
   ]
  },
  {
   "cell_type": "markdown",
   "id": "f540fd4f",
   "metadata": {},
   "source": [
    "Посмотрим на уникальные значения категориальных признаков"
   ]
  },
  {
   "cell_type": "code",
   "execution_count": 74,
   "id": "8452bf97",
   "metadata": {},
   "outputs": [
    {
     "data": {
      "text/plain": [
       "[array(['housemaid', 'services', 'admin.', 'blue-collar', 'technician',\n",
       "        'retired', 'management', 'unemployed', 'self-employed', 'unknown',\n",
       "        'entrepreneur', 'student'], dtype=object),\n",
       " array(['married', 'single', 'divorced', 'unknown'], dtype=object),\n",
       " array(['basic.4y', 'high.school', 'basic.6y', 'basic.9y',\n",
       "        'professional.course', 'unknown', 'university.degree',\n",
       "        'illiterate'], dtype=object),\n",
       " array(['no', 'unknown', 'yes'], dtype=object),\n",
       " array(['no', 'yes', 'unknown'], dtype=object),\n",
       " array(['no', 'yes', 'unknown'], dtype=object),\n",
       " array(['telephone', 'cellular'], dtype=object),\n",
       " array(['may', 'jun', 'jul', 'aug', 'oct', 'nov', 'dec', 'mar', 'apr',\n",
       "        'sep'], dtype=object),\n",
       " array(['mon', 'tue', 'wed', 'thu', 'fri'], dtype=object),\n",
       " array(['nonexistent', 'failure', 'success'], dtype=object)]"
      ]
     },
     "execution_count": 74,
     "metadata": {},
     "output_type": "execute_result"
    }
   ],
   "source": [
    "[df[col].unique() for col in cat_cols] # есть значения unknown (это и в описании датасета написано), это не очень хорошо, то же, что и пропуски"
   ]
  },
  {
   "cell_type": "markdown",
   "id": "1580213c",
   "metadata": {},
   "source": [
    "Посмотрим сколько unknownов в датасете (есть хотя бы в одной категориальной колонке)"
   ]
  },
  {
   "cell_type": "code",
   "execution_count": 75,
   "id": "f98455bf",
   "metadata": {
    "scrolled": false
   },
   "outputs": [
    {
     "data": {
      "text/plain": [
       "(10698, 21)"
      ]
     },
     "execution_count": 75,
     "metadata": {},
     "output_type": "execute_result"
    }
   ],
   "source": [
    "df[df[cat_cols].isin(['unknown']).any(axis=1)].shape # таких почти четверть, пока ничего не будем делать с этим, хорошо, что мы просто исследуем данные, а не обучаем модели"
   ]
  },
  {
   "cell_type": "markdown",
   "id": "32140d48",
   "metadata": {},
   "source": [
    "Из документации видно, что pdays равен 999 - это значит, что клиенту предварительно не звонили, это желательно перекодировать, т.к. это числовой признак"
   ]
  },
  {
   "cell_type": "code",
   "execution_count": 76,
   "id": "3ffab3a9",
   "metadata": {},
   "outputs": [
    {
     "data": {
      "text/plain": [
       "array([999,   6,   4,   3,   5,   1,   0,  10,   7,   8,   9,  11,   2,\n",
       "        12,  13,  14,  15,  16,  21,  17,  18,  22,  25,  26,  19,  27,\n",
       "        20], dtype=int64)"
      ]
     },
     "execution_count": 76,
     "metadata": {},
     "output_type": "execute_result"
    }
   ],
   "source": [
    "df['pdays'].unique() "
   ]
  },
  {
   "cell_type": "code",
   "execution_count": 77,
   "id": "15438c47",
   "metadata": {},
   "outputs": [
    {
     "data": {
      "text/plain": [
       "(39661, 21)"
      ]
     },
     "execution_count": 77,
     "metadata": {},
     "output_type": "execute_result"
    }
   ],
   "source": [
    "df[df['pdays'] == 999].shape # почти никому не звонили"
   ]
  },
  {
   "cell_type": "markdown",
   "id": "d40262d4",
   "metadata": {},
   "source": [
    "Вообще очевидно, что перед обучением моделей на бинарную классификацию признаки можно поделить как в описании датасета: на банковскую информацию, информацию о последнем контакте с клиентом, экономические характеристики и др.\n",
    "Сейчас просто уберем pdays и перекодируем столбец y в нули и единицы"
   ]
  },
  {
   "cell_type": "code",
   "execution_count": 78,
   "id": "422aaec6",
   "metadata": {},
   "outputs": [],
   "source": [
    "num_cols.remove('pdays')\n",
    "df['y'].replace({'yes':1,'no':0}, inplace = True)"
   ]
  },
  {
   "cell_type": "markdown",
   "id": "894bef43",
   "metadata": {},
   "source": [
    "Визуализация"
   ]
  },
  {
   "cell_type": "code",
   "execution_count": 79,
   "id": "d731b0da",
   "metadata": {},
   "outputs": [
    {
     "data": {
      "image/png": "[encoded data removed]",
      "text/plain": [
       "<Figure size 432x288 with 1 Axes>"
      ]
     },
     "metadata": {},
     "output_type": "display_data"
    }
   ],
   "source": [
    "df['y'].value_counts(normalize=True).plot.bar(); # гистограмма результирующего признака"
   ]
  },
  {
   "cell_type": "code",
   "execution_count": 80,
   "id": "aa2f25ae",
   "metadata": {},
   "outputs": [
    {
     "data": {
      "image/png": "[encoded data removed]",
      "text/plain": [
       "<Figure size 1008x720 with 9 Axes>"
      ]
     },
     "metadata": {},
     "output_type": "display_data"
    }
   ],
   "source": [
    "df.hist(column=num_cols, figsize=(14, 10)); # Посмотрим на распредление числовых величин"
   ]
  },
  {
   "cell_type": "code",
   "execution_count": 81,
   "id": "8c6d7378",
   "metadata": {},
   "outputs": [
    {
     "data": {
      "image/png": "[encoded data removed]",
      "text/plain": [
       "<Figure size 1440x360 with 3 Axes>"
      ]
     },
     "metadata": {},
     "output_type": "display_data"
    }
   ],
   "source": [
    "df[num_cols[:3]].plot.box(subplots = True, figsize = (20, 5)); # боксплоты для первых трех числовых признаков"
   ]
  },
  {
   "cell_type": "markdown",
   "id": "a0d5b6ab",
   "metadata": {},
   "source": [
    "Посмотрим на корреляции между признаками"
   ]
  },
  {
   "cell_type": "code",
   "execution_count": 82,
   "id": "6230fd9d",
   "metadata": {},
   "outputs": [
    {
     "name": "stderr",
     "output_type": "stream",
     "text": [
      "<ipython-input-82-8c92d75e7cc8>:1: FutureWarning: this method is deprecated in favour of `Styler.format(precision=..)`\n",
      "  df.corr().style.background_gradient(cmap='coolwarm').set_precision(2) #корреляция между признаками и целевой колонкой не особо высокая\n"
     ]
    },
    {
     "data": {
      "text/html": [
       "<style type=\"text/css\">\n",
       "#T_165e9_row0_col0, #T_165e9_row1_col1, #T_165e9_row2_col2, #T_165e9_row3_col3, #T_165e9_row4_col4, #T_165e9_row5_col5, #T_165e9_row6_col6, #T_165e9_row7_col7, #T_165e9_row8_col8, #T_165e9_row9_col9, #T_165e9_row10_col10 {\n",
       "  background-color: #b40426;\n",
       "  color: #f1f1f1;\n",
       "}\n",
       "#T_165e9_row0_col1, #T_165e9_row10_col0 {\n",
       "  background-color: #4e68d8;\n",
       "  color: #f1f1f1;\n",
       "}\n",
       "#T_165e9_row0_col2, #T_165e9_row1_col7 {\n",
       "  background-color: #516ddb;\n",
       "  color: #f1f1f1;\n",
       "}\n",
       "#T_165e9_row0_col3 {\n",
       "  background-color: #afcafc;\n",
       "  color: #000000;\n",
       "}\n",
       "#T_165e9_row0_col4, #T_165e9_row1_col4 {\n",
       "  background-color: #bbd1f8;\n",
       "  color: #000000;\n",
       "}\n",
       "#T_165e9_row0_col5 {\n",
       "  background-color: #9dbdff;\n",
       "  color: #000000;\n",
       "}\n",
       "#T_165e9_row0_col6 {\n",
       "  background-color: #7093f3;\n",
       "  color: #f1f1f1;\n",
       "}\n",
       "#T_165e9_row0_col7 {\n",
       "  background-color: #7b9ff9;\n",
       "  color: #f1f1f1;\n",
       "}\n",
       "#T_165e9_row0_col8, #T_165e9_row2_col4 {\n",
       "  background-color: #a5c3fe;\n",
       "  color: #000000;\n",
       "}\n",
       "#T_165e9_row0_col9 {\n",
       "  background-color: #a6c4fe;\n",
       "  color: #000000;\n",
       "}\n",
       "#T_165e9_row0_col10 {\n",
       "  background-color: #98b9ff;\n",
       "  color: #000000;\n",
       "}\n",
       "#T_165e9_row1_col0, #T_165e9_row5_col0, #T_165e9_row6_col0, #T_165e9_row8_col10 {\n",
       "  background-color: #445acc;\n",
       "  color: #f1f1f1;\n",
       "}\n",
       "#T_165e9_row1_col2 {\n",
       "  background-color: #3c4ec2;\n",
       "  color: #f1f1f1;\n",
       "}\n",
       "#T_165e9_row1_col3 {\n",
       "  background-color: #adc9fd;\n",
       "  color: #000000;\n",
       "}\n",
       "#T_165e9_row1_col5, #T_165e9_row2_col6 {\n",
       "  background-color: #96b7ff;\n",
       "  color: #000000;\n",
       "}\n",
       "#T_165e9_row1_col6 {\n",
       "  background-color: #7295f4;\n",
       "  color: #f1f1f1;\n",
       "}\n",
       "#T_165e9_row1_col8 {\n",
       "  background-color: #9bbcff;\n",
       "  color: #000000;\n",
       "}\n",
       "#T_165e9_row1_col9, #T_165e9_row7_col10 {\n",
       "  background-color: #9fbfff;\n",
       "  color: #000000;\n",
       "}\n",
       "#T_165e9_row1_col10 {\n",
       "  background-color: #ebd3c6;\n",
       "  color: #000000;\n",
       "}\n",
       "#T_165e9_row2_col0, #T_165e9_row4_col7, #T_165e9_row8_col1 {\n",
       "  background-color: #455cce;\n",
       "  color: #f1f1f1;\n",
       "}\n",
       "#T_165e9_row2_col1, #T_165e9_row3_col0, #T_165e9_row3_col4, #T_165e9_row3_col7, #T_165e9_row4_col2, #T_165e9_row4_col3, #T_165e9_row4_col5, #T_165e9_row4_col6, #T_165e9_row4_col8, #T_165e9_row4_col9, #T_165e9_row9_col10 {\n",
       "  background-color: #3b4cc0;\n",
       "  color: #f1f1f1;\n",
       "}\n",
       "#T_165e9_row2_col3, #T_165e9_row2_col8 {\n",
       "  background-color: #c1d4f4;\n",
       "  color: #000000;\n",
       "}\n",
       "#T_165e9_row2_col5, #T_165e9_row7_col9 {\n",
       "  background-color: #c0d4f5;\n",
       "  color: #000000;\n",
       "}\n",
       "#T_165e9_row2_col7, #T_165e9_row6_col1 {\n",
       "  background-color: #506bda;\n",
       "  color: #f1f1f1;\n",
       "}\n",
       "#T_165e9_row2_col9, #T_165e9_row4_col10 {\n",
       "  background-color: #cad8ef;\n",
       "  color: #000000;\n",
       "}\n",
       "#T_165e9_row2_col10, #T_165e9_row5_col2 {\n",
       "  background-color: #80a3fa;\n",
       "  color: #f1f1f1;\n",
       "}\n",
       "#T_165e9_row3_col1, #T_165e9_row3_col10 {\n",
       "  background-color: #4055c8;\n",
       "  color: #f1f1f1;\n",
       "}\n",
       "#T_165e9_row3_col2 {\n",
       "  background-color: #6180e9;\n",
       "  color: #f1f1f1;\n",
       "}\n",
       "#T_165e9_row3_col5 {\n",
       "  background-color: #d9dce1;\n",
       "  color: #000000;\n",
       "}\n",
       "#T_165e9_row3_col6 {\n",
       "  background-color: #88abfd;\n",
       "  color: #000000;\n",
       "}\n",
       "#T_165e9_row3_col8 {\n",
       "  background-color: #e1dad6;\n",
       "  color: #000000;\n",
       "}\n",
       "#T_165e9_row3_col9 {\n",
       "  background-color: #efcebd;\n",
       "  color: #000000;\n",
       "}\n",
       "#T_165e9_row4_col0, #T_165e9_row10_col6 {\n",
       "  background-color: #4b64d5;\n",
       "  color: #f1f1f1;\n",
       "}\n",
       "#T_165e9_row4_col1, #T_165e9_row10_col5 {\n",
       "  background-color: #5572df;\n",
       "  color: #f1f1f1;\n",
       "}\n",
       "#T_165e9_row5_col1, #T_165e9_row5_col10 {\n",
       "  background-color: #465ecf;\n",
       "  color: #f1f1f1;\n",
       "}\n",
       "#T_165e9_row5_col3 {\n",
       "  background-color: #e7d7ce;\n",
       "  color: #000000;\n",
       "}\n",
       "#T_165e9_row5_col4 {\n",
       "  background-color: #5a78e4;\n",
       "  color: #f1f1f1;\n",
       "}\n",
       "#T_165e9_row5_col6 {\n",
       "  background-color: #eb7d62;\n",
       "  color: #f1f1f1;\n",
       "}\n",
       "#T_165e9_row5_col7 {\n",
       "  background-color: #92b4fe;\n",
       "  color: #000000;\n",
       "}\n",
       "#T_165e9_row5_col8 {\n",
       "  background-color: #ba162b;\n",
       "  color: #f1f1f1;\n",
       "}\n",
       "#T_165e9_row5_col9 {\n",
       "  background-color: #ca3b37;\n",
       "  color: #f1f1f1;\n",
       "}\n",
       "#T_165e9_row6_col2 {\n",
       "  background-color: #799cf8;\n",
       "  color: #f1f1f1;\n",
       "}\n",
       "#T_165e9_row6_col3 {\n",
       "  background-color: #c6d6f1;\n",
       "  color: #000000;\n",
       "}\n",
       "#T_165e9_row6_col4 {\n",
       "  background-color: #89acfd;\n",
       "  color: #000000;\n",
       "}\n",
       "#T_165e9_row6_col5 {\n",
       "  background-color: #e57058;\n",
       "  color: #f1f1f1;\n",
       "}\n",
       "#T_165e9_row6_col7 {\n",
       "  background-color: #6687ed;\n",
       "  color: #f1f1f1;\n",
       "}\n",
       "#T_165e9_row6_col8 {\n",
       "  background-color: #f08a6c;\n",
       "  color: #f1f1f1;\n",
       "}\n",
       "#T_165e9_row6_col9 {\n",
       "  background-color: #f7b396;\n",
       "  color: #000000;\n",
       "}\n",
       "#T_165e9_row6_col10 {\n",
       "  background-color: #6e90f2;\n",
       "  color: #f1f1f1;\n",
       "}\n",
       "#T_165e9_row7_col0 {\n",
       "  background-color: #6c8ff1;\n",
       "  color: #f1f1f1;\n",
       "}\n",
       "#T_165e9_row7_col1, #T_165e9_row7_col2 {\n",
       "  background-color: #4c66d6;\n",
       "  color: #f1f1f1;\n",
       "}\n",
       "#T_165e9_row7_col3 {\n",
       "  background-color: #a3c2fe;\n",
       "  color: #000000;\n",
       "}\n",
       "#T_165e9_row7_col4, #T_165e9_row8_col7 {\n",
       "  background-color: #abc8fd;\n",
       "  color: #000000;\n",
       "}\n",
       "#T_165e9_row7_col5 {\n",
       "  background-color: #cbd8ee;\n",
       "  color: #000000;\n",
       "}\n",
       "#T_165e9_row7_col6 {\n",
       "  background-color: #81a4fb;\n",
       "  color: #f1f1f1;\n",
       "}\n",
       "#T_165e9_row7_col8 {\n",
       "  background-color: #dddcdc;\n",
       "  color: #000000;\n",
       "}\n",
       "#T_165e9_row8_col0 {\n",
       "  background-color: #485fd1;\n",
       "  color: #f1f1f1;\n",
       "}\n",
       "#T_165e9_row8_col2 {\n",
       "  background-color: #7a9df8;\n",
       "  color: #f1f1f1;\n",
       "}\n",
       "#T_165e9_row8_col3 {\n",
       "  background-color: #ead4c8;\n",
       "  color: #000000;\n",
       "}\n",
       "#T_165e9_row8_col4 {\n",
       "  background-color: #5470de;\n",
       "  color: #f1f1f1;\n",
       "}\n",
       "#T_165e9_row8_col5 {\n",
       "  background-color: #bb1b2c;\n",
       "  color: #f1f1f1;\n",
       "}\n",
       "#T_165e9_row8_col6 {\n",
       "  background-color: #f59d7e;\n",
       "  color: #000000;\n",
       "}\n",
       "#T_165e9_row8_col9, #T_165e9_row9_col8 {\n",
       "  background-color: #c12b30;\n",
       "  color: #f1f1f1;\n",
       "}\n",
       "#T_165e9_row9_col0 {\n",
       "  background-color: #3f53c6;\n",
       "  color: #f1f1f1;\n",
       "}\n",
       "#T_165e9_row9_col1 {\n",
       "  background-color: #4257c9;\n",
       "  color: #f1f1f1;\n",
       "}\n",
       "#T_165e9_row9_col2 {\n",
       "  background-color: #7da0f9;\n",
       "  color: #f1f1f1;\n",
       "}\n",
       "#T_165e9_row9_col3, #T_165e9_row9_col6 {\n",
       "  background-color: #f2cab5;\n",
       "  color: #000000;\n",
       "}\n",
       "#T_165e9_row9_col4 {\n",
       "  background-color: #4a63d3;\n",
       "  color: #f1f1f1;\n",
       "}\n",
       "#T_165e9_row9_col5 {\n",
       "  background-color: #cb3e38;\n",
       "  color: #f1f1f1;\n",
       "}\n",
       "#T_165e9_row9_col7 {\n",
       "  background-color: #7396f5;\n",
       "  color: #f1f1f1;\n",
       "}\n",
       "#T_165e9_row10_col1 {\n",
       "  background-color: #cdd9ec;\n",
       "  color: #000000;\n",
       "}\n",
       "#T_165e9_row10_col2 {\n",
       "  background-color: #3e51c5;\n",
       "  color: #f1f1f1;\n",
       "}\n",
       "#T_165e9_row10_col3 {\n",
       "  background-color: #6f92f3;\n",
       "  color: #f1f1f1;\n",
       "}\n",
       "#T_165e9_row10_col4 {\n",
       "  background-color: #e0dbd8;\n",
       "  color: #000000;\n",
       "}\n",
       "#T_165e9_row10_col7 {\n",
       "  background-color: #6485ec;\n",
       "  color: #f1f1f1;\n",
       "}\n",
       "#T_165e9_row10_col8, #T_165e9_row10_col9 {\n",
       "  background-color: #5977e3;\n",
       "  color: #f1f1f1;\n",
       "}\n",
       "</style>\n",
       "<table id=\"T_165e9_\">\n",
       "  <thead>\n",
       "    <tr>\n",
       "      <th class=\"blank level0\" >&nbsp;</th>\n",
       "      <th class=\"col_heading level0 col0\" >age</th>\n",
       "      <th class=\"col_heading level0 col1\" >duration</th>\n",
       "      <th class=\"col_heading level0 col2\" >campaign</th>\n",
       "      <th class=\"col_heading level0 col3\" >pdays</th>\n",
       "      <th class=\"col_heading level0 col4\" >previous</th>\n",
       "      <th class=\"col_heading level0 col5\" >emp.var.rate</th>\n",
       "      <th class=\"col_heading level0 col6\" >cons.price.idx</th>\n",
       "      <th class=\"col_heading level0 col7\" >cons.conf.idx</th>\n",
       "      <th class=\"col_heading level0 col8\" >euribor3m</th>\n",
       "      <th class=\"col_heading level0 col9\" >nr.employed</th>\n",
       "      <th class=\"col_heading level0 col10\" >y</th>\n",
       "    </tr>\n",
       "  </thead>\n",
       "  <tbody>\n",
       "    <tr>\n",
       "      <th id=\"T_165e9_level0_row0\" class=\"row_heading level0 row0\" >age</th>\n",
       "      <td id=\"T_165e9_row0_col0\" class=\"data row0 col0\" >1.00</td>\n",
       "      <td id=\"T_165e9_row0_col1\" class=\"data row0 col1\" >-0.00</td>\n",
       "      <td id=\"T_165e9_row0_col2\" class=\"data row0 col2\" >0.00</td>\n",
       "      <td id=\"T_165e9_row0_col3\" class=\"data row0 col3\" >-0.03</td>\n",
       "      <td id=\"T_165e9_row0_col4\" class=\"data row0 col4\" >0.02</td>\n",
       "      <td id=\"T_165e9_row0_col5\" class=\"data row0 col5\" >-0.00</td>\n",
       "      <td id=\"T_165e9_row0_col6\" class=\"data row0 col6\" >0.00</td>\n",
       "      <td id=\"T_165e9_row0_col7\" class=\"data row0 col7\" >0.13</td>\n",
       "      <td id=\"T_165e9_row0_col8\" class=\"data row0 col8\" >0.01</td>\n",
       "      <td id=\"T_165e9_row0_col9\" class=\"data row0 col9\" >-0.02</td>\n",
       "      <td id=\"T_165e9_row0_col10\" class=\"data row0 col10\" >0.03</td>\n",
       "    </tr>\n",
       "    <tr>\n",
       "      <th id=\"T_165e9_level0_row1\" class=\"row_heading level0 row1\" >duration</th>\n",
       "      <td id=\"T_165e9_row1_col0\" class=\"data row1 col0\" >-0.00</td>\n",
       "      <td id=\"T_165e9_row1_col1\" class=\"data row1 col1\" >1.00</td>\n",
       "      <td id=\"T_165e9_row1_col2\" class=\"data row1 col2\" >-0.07</td>\n",
       "      <td id=\"T_165e9_row1_col3\" class=\"data row1 col3\" >-0.05</td>\n",
       "      <td id=\"T_165e9_row1_col4\" class=\"data row1 col4\" >0.02</td>\n",
       "      <td id=\"T_165e9_row1_col5\" class=\"data row1 col5\" >-0.03</td>\n",
       "      <td id=\"T_165e9_row1_col6\" class=\"data row1 col6\" >0.01</td>\n",
       "      <td id=\"T_165e9_row1_col7\" class=\"data row1 col7\" >-0.01</td>\n",
       "      <td id=\"T_165e9_row1_col8\" class=\"data row1 col8\" >-0.03</td>\n",
       "      <td id=\"T_165e9_row1_col9\" class=\"data row1 col9\" >-0.04</td>\n",
       "      <td id=\"T_165e9_row1_col10\" class=\"data row1 col10\" >0.41</td>\n",
       "    </tr>\n",
       "    <tr>\n",
       "      <th id=\"T_165e9_level0_row2\" class=\"row_heading level0 row2\" >campaign</th>\n",
       "      <td id=\"T_165e9_row2_col0\" class=\"data row2 col0\" >0.00</td>\n",
       "      <td id=\"T_165e9_row2_col1\" class=\"data row2 col1\" >-0.07</td>\n",
       "      <td id=\"T_165e9_row2_col2\" class=\"data row2 col2\" >1.00</td>\n",
       "      <td id=\"T_165e9_row2_col3\" class=\"data row2 col3\" >0.05</td>\n",
       "      <td id=\"T_165e9_row2_col4\" class=\"data row2 col4\" >-0.08</td>\n",
       "      <td id=\"T_165e9_row2_col5\" class=\"data row2 col5\" >0.15</td>\n",
       "      <td id=\"T_165e9_row2_col6\" class=\"data row2 col6\" >0.13</td>\n",
       "      <td id=\"T_165e9_row2_col7\" class=\"data row2 col7\" >-0.01</td>\n",
       "      <td id=\"T_165e9_row2_col8\" class=\"data row2 col8\" >0.14</td>\n",
       "      <td id=\"T_165e9_row2_col9\" class=\"data row2 col9\" >0.14</td>\n",
       "      <td id=\"T_165e9_row2_col10\" class=\"data row2 col10\" >-0.07</td>\n",
       "    </tr>\n",
       "    <tr>\n",
       "      <th id=\"T_165e9_level0_row3\" class=\"row_heading level0 row3\" >pdays</th>\n",
       "      <td id=\"T_165e9_row3_col0\" class=\"data row3 col0\" >-0.03</td>\n",
       "      <td id=\"T_165e9_row3_col1\" class=\"data row3 col1\" >-0.05</td>\n",
       "      <td id=\"T_165e9_row3_col2\" class=\"data row3 col2\" >0.05</td>\n",
       "      <td id=\"T_165e9_row3_col3\" class=\"data row3 col3\" >1.00</td>\n",
       "      <td id=\"T_165e9_row3_col4\" class=\"data row3 col4\" >-0.59</td>\n",
       "      <td id=\"T_165e9_row3_col5\" class=\"data row3 col5\" >0.27</td>\n",
       "      <td id=\"T_165e9_row3_col6\" class=\"data row3 col6\" >0.08</td>\n",
       "      <td id=\"T_165e9_row3_col7\" class=\"data row3 col7\" >-0.09</td>\n",
       "      <td id=\"T_165e9_row3_col8\" class=\"data row3 col8\" >0.30</td>\n",
       "      <td id=\"T_165e9_row3_col9\" class=\"data row3 col9\" >0.37</td>\n",
       "      <td id=\"T_165e9_row3_col10\" class=\"data row3 col10\" >-0.32</td>\n",
       "    </tr>\n",
       "    <tr>\n",
       "      <th id=\"T_165e9_level0_row4\" class=\"row_heading level0 row4\" >previous</th>\n",
       "      <td id=\"T_165e9_row4_col0\" class=\"data row4 col0\" >0.02</td>\n",
       "      <td id=\"T_165e9_row4_col1\" class=\"data row4 col1\" >0.02</td>\n",
       "      <td id=\"T_165e9_row4_col2\" class=\"data row4 col2\" >-0.08</td>\n",
       "      <td id=\"T_165e9_row4_col3\" class=\"data row4 col3\" >-0.59</td>\n",
       "      <td id=\"T_165e9_row4_col4\" class=\"data row4 col4\" >1.00</td>\n",
       "      <td id=\"T_165e9_row4_col5\" class=\"data row4 col5\" >-0.42</td>\n",
       "      <td id=\"T_165e9_row4_col6\" class=\"data row4 col6\" >-0.20</td>\n",
       "      <td id=\"T_165e9_row4_col7\" class=\"data row4 col7\" >-0.05</td>\n",
       "      <td id=\"T_165e9_row4_col8\" class=\"data row4 col8\" >-0.45</td>\n",
       "      <td id=\"T_165e9_row4_col9\" class=\"data row4 col9\" >-0.50</td>\n",
       "      <td id=\"T_165e9_row4_col10\" class=\"data row4 col10\" >0.23</td>\n",
       "    </tr>\n",
       "    <tr>\n",
       "      <th id=\"T_165e9_level0_row5\" class=\"row_heading level0 row5\" >emp.var.rate</th>\n",
       "      <td id=\"T_165e9_row5_col0\" class=\"data row5 col0\" >-0.00</td>\n",
       "      <td id=\"T_165e9_row5_col1\" class=\"data row5 col1\" >-0.03</td>\n",
       "      <td id=\"T_165e9_row5_col2\" class=\"data row5 col2\" >0.15</td>\n",
       "      <td id=\"T_165e9_row5_col3\" class=\"data row5 col3\" >0.27</td>\n",
       "      <td id=\"T_165e9_row5_col4\" class=\"data row5 col4\" >-0.42</td>\n",
       "      <td id=\"T_165e9_row5_col5\" class=\"data row5 col5\" >1.00</td>\n",
       "      <td id=\"T_165e9_row5_col6\" class=\"data row5 col6\" >0.78</td>\n",
       "      <td id=\"T_165e9_row5_col7\" class=\"data row5 col7\" >0.20</td>\n",
       "      <td id=\"T_165e9_row5_col8\" class=\"data row5 col8\" >0.97</td>\n",
       "      <td id=\"T_165e9_row5_col9\" class=\"data row5 col9\" >0.91</td>\n",
       "      <td id=\"T_165e9_row5_col10\" class=\"data row5 col10\" >-0.30</td>\n",
       "    </tr>\n",
       "    <tr>\n",
       "      <th id=\"T_165e9_level0_row6\" class=\"row_heading level0 row6\" >cons.price.idx</th>\n",
       "      <td id=\"T_165e9_row6_col0\" class=\"data row6 col0\" >0.00</td>\n",
       "      <td id=\"T_165e9_row6_col1\" class=\"data row6 col1\" >0.01</td>\n",
       "      <td id=\"T_165e9_row6_col2\" class=\"data row6 col2\" >0.13</td>\n",
       "      <td id=\"T_165e9_row6_col3\" class=\"data row6 col3\" >0.08</td>\n",
       "      <td id=\"T_165e9_row6_col4\" class=\"data row6 col4\" >-0.20</td>\n",
       "      <td id=\"T_165e9_row6_col5\" class=\"data row6 col5\" >0.78</td>\n",
       "      <td id=\"T_165e9_row6_col6\" class=\"data row6 col6\" >1.00</td>\n",
       "      <td id=\"T_165e9_row6_col7\" class=\"data row6 col7\" >0.06</td>\n",
       "      <td id=\"T_165e9_row6_col8\" class=\"data row6 col8\" >0.69</td>\n",
       "      <td id=\"T_165e9_row6_col9\" class=\"data row6 col9\" >0.52</td>\n",
       "      <td id=\"T_165e9_row6_col10\" class=\"data row6 col10\" >-0.14</td>\n",
       "    </tr>\n",
       "    <tr>\n",
       "      <th id=\"T_165e9_level0_row7\" class=\"row_heading level0 row7\" >cons.conf.idx</th>\n",
       "      <td id=\"T_165e9_row7_col0\" class=\"data row7 col0\" >0.13</td>\n",
       "      <td id=\"T_165e9_row7_col1\" class=\"data row7 col1\" >-0.01</td>\n",
       "      <td id=\"T_165e9_row7_col2\" class=\"data row7 col2\" >-0.01</td>\n",
       "      <td id=\"T_165e9_row7_col3\" class=\"data row7 col3\" >-0.09</td>\n",
       "      <td id=\"T_165e9_row7_col4\" class=\"data row7 col4\" >-0.05</td>\n",
       "      <td id=\"T_165e9_row7_col5\" class=\"data row7 col5\" >0.20</td>\n",
       "      <td id=\"T_165e9_row7_col6\" class=\"data row7 col6\" >0.06</td>\n",
       "      <td id=\"T_165e9_row7_col7\" class=\"data row7 col7\" >1.00</td>\n",
       "      <td id=\"T_165e9_row7_col8\" class=\"data row7 col8\" >0.28</td>\n",
       "      <td id=\"T_165e9_row7_col9\" class=\"data row7 col9\" >0.10</td>\n",
       "      <td id=\"T_165e9_row7_col10\" class=\"data row7 col10\" >0.05</td>\n",
       "    </tr>\n",
       "    <tr>\n",
       "      <th id=\"T_165e9_level0_row8\" class=\"row_heading level0 row8\" >euribor3m</th>\n",
       "      <td id=\"T_165e9_row8_col0\" class=\"data row8 col0\" >0.01</td>\n",
       "      <td id=\"T_165e9_row8_col1\" class=\"data row8 col1\" >-0.03</td>\n",
       "      <td id=\"T_165e9_row8_col2\" class=\"data row8 col2\" >0.14</td>\n",
       "      <td id=\"T_165e9_row8_col3\" class=\"data row8 col3\" >0.30</td>\n",
       "      <td id=\"T_165e9_row8_col4\" class=\"data row8 col4\" >-0.45</td>\n",
       "      <td id=\"T_165e9_row8_col5\" class=\"data row8 col5\" >0.97</td>\n",
       "      <td id=\"T_165e9_row8_col6\" class=\"data row8 col6\" >0.69</td>\n",
       "      <td id=\"T_165e9_row8_col7\" class=\"data row8 col7\" >0.28</td>\n",
       "      <td id=\"T_165e9_row8_col8\" class=\"data row8 col8\" >1.00</td>\n",
       "      <td id=\"T_165e9_row8_col9\" class=\"data row8 col9\" >0.95</td>\n",
       "      <td id=\"T_165e9_row8_col10\" class=\"data row8 col10\" >-0.31</td>\n",
       "    </tr>\n",
       "    <tr>\n",
       "      <th id=\"T_165e9_level0_row9\" class=\"row_heading level0 row9\" >nr.employed</th>\n",
       "      <td id=\"T_165e9_row9_col0\" class=\"data row9 col0\" >-0.02</td>\n",
       "      <td id=\"T_165e9_row9_col1\" class=\"data row9 col1\" >-0.04</td>\n",
       "      <td id=\"T_165e9_row9_col2\" class=\"data row9 col2\" >0.14</td>\n",
       "      <td id=\"T_165e9_row9_col3\" class=\"data row9 col3\" >0.37</td>\n",
       "      <td id=\"T_165e9_row9_col4\" class=\"data row9 col4\" >-0.50</td>\n",
       "      <td id=\"T_165e9_row9_col5\" class=\"data row9 col5\" >0.91</td>\n",
       "      <td id=\"T_165e9_row9_col6\" class=\"data row9 col6\" >0.52</td>\n",
       "      <td id=\"T_165e9_row9_col7\" class=\"data row9 col7\" >0.10</td>\n",
       "      <td id=\"T_165e9_row9_col8\" class=\"data row9 col8\" >0.95</td>\n",
       "      <td id=\"T_165e9_row9_col9\" class=\"data row9 col9\" >1.00</td>\n",
       "      <td id=\"T_165e9_row9_col10\" class=\"data row9 col10\" >-0.35</td>\n",
       "    </tr>\n",
       "    <tr>\n",
       "      <th id=\"T_165e9_level0_row10\" class=\"row_heading level0 row10\" >y</th>\n",
       "      <td id=\"T_165e9_row10_col0\" class=\"data row10 col0\" >0.03</td>\n",
       "      <td id=\"T_165e9_row10_col1\" class=\"data row10 col1\" >0.41</td>\n",
       "      <td id=\"T_165e9_row10_col2\" class=\"data row10 col2\" >-0.07</td>\n",
       "      <td id=\"T_165e9_row10_col3\" class=\"data row10 col3\" >-0.32</td>\n",
       "      <td id=\"T_165e9_row10_col4\" class=\"data row10 col4\" >0.23</td>\n",
       "      <td id=\"T_165e9_row10_col5\" class=\"data row10 col5\" >-0.30</td>\n",
       "      <td id=\"T_165e9_row10_col6\" class=\"data row10 col6\" >-0.14</td>\n",
       "      <td id=\"T_165e9_row10_col7\" class=\"data row10 col7\" >0.05</td>\n",
       "      <td id=\"T_165e9_row10_col8\" class=\"data row10 col8\" >-0.31</td>\n",
       "      <td id=\"T_165e9_row10_col9\" class=\"data row10 col9\" >-0.35</td>\n",
       "      <td id=\"T_165e9_row10_col10\" class=\"data row10 col10\" >1.00</td>\n",
       "    </tr>\n",
       "  </tbody>\n",
       "</table>\n"
      ],
      "text/plain": [
       "<pandas.io.formats.style.Styler at 0x1c91c57a7f0>"
      ]
     },
     "execution_count": 82,
     "metadata": {},
     "output_type": "execute_result"
    }
   ],
   "source": [
    "df.corr().style.background_gradient(cmap='coolwarm').set_precision(2) #корреляция между признаками и целевой колонкой не особо высокая"
   ]
  },
  {
   "cell_type": "markdown",
   "id": "a9dfc774",
   "metadata": {},
   "source": [
    "## Визуализация распределения признаков, оценка параметров"
   ]
  },
  {
   "cell_type": "markdown",
   "id": "02365d43",
   "metadata": {},
   "source": [
    "Посмотрим какие количественные признаки можно было бы проанализировать кроме тех, которые уже были рассмотрены на занятии. Посмотрим сколько уникальных значений и распределения"
   ]
  },
  {
   "cell_type": "code",
   "execution_count": 83,
   "id": "a9dd30a4",
   "metadata": {},
   "outputs": [
    {
     "name": "stdout",
     "output_type": "stream",
     "text": [
      "age 78\n",
      "duration 1544\n",
      "campaign 42\n",
      "previous 8\n",
      "emp.var.rate 10\n",
      "cons.price.idx 26\n",
      "cons.conf.idx 26\n",
      "euribor3m 316\n",
      "nr.employed 11\n"
     ]
    }
   ],
   "source": [
    "for col in num_cols:\n",
    "    print(col, len(df[col].unique()))"
   ]
  },
  {
   "cell_type": "code",
   "execution_count": 84,
   "id": "977cc465",
   "metadata": {
    "scrolled": false
   },
   "outputs": [
    {
     "data": {
      "image/png": "[encoded data removed]",
      "text/plain": [
       "<Figure size 720x432 with 1 Axes>"
      ]
     },
     "metadata": {},
     "output_type": "display_data"
    },
    {
     "data": {
      "image/png": "[encoded data removed]",
      "text/plain": [
       "<Figure size 720x432 with 1 Axes>"
      ]
     },
     "metadata": {},
     "output_type": "display_data"
    },
    {
     "data": {
      "image/png": "[encoded data removed]",
      "text/plain": [
       "<Figure size 720x432 with 1 Axes>"
      ]
     },
     "metadata": {},
     "output_type": "display_data"
    },
    {
     "data": {
      "image/png": "[encoded data removed]",
      "text/plain": [
       "<Figure size 720x432 with 1 Axes>"
      ]
     },
     "metadata": {},
     "output_type": "display_data"
    },
    {
     "data": {
      "image/png": "[encoded data removed]",
      "text/plain": [
       "<Figure size 720x432 with 1 Axes>"
      ]
     },
     "metadata": {},
     "output_type": "display_data"
    },
    {
     "data": {
      "image/png": "[encoded data removed]",
      "text/plain": [
       "<Figure size 720x432 with 1 Axes>"
      ]
     },
     "metadata": {},
     "output_type": "display_data"
    },
    {
     "data": {
      "image/png": "[encoded data removed]",
      "text/plain": [
       "<Figure size 720x432 with 1 Axes>"
      ]
     },
     "metadata": {},
     "output_type": "display_data"
    }
   ],
   "source": [
    "for col in num_cols[2:]:\n",
    "    fig = plt.figure(figsize=[10, 6])\n",
    "    sns.histplot(df[col], bins=50)    "
   ]
  },
  {
   "cell_type": "markdown",
   "id": "2786d97e",
   "metadata": {},
   "source": [
    "Очевидно, что более-менее адекватно (достаточно уникальных значений, признак, присущий каждому клиенту, а не месячный экономический показатель и т. д.) распределен только признак campaign - количество контактов с клиентами."
   ]
  },
  {
   "cell_type": "code",
   "execution_count": 85,
   "id": "3831cfb9",
   "metadata": {},
   "outputs": [
    {
     "data": {
      "text/plain": [
       "<AxesSubplot:xlabel='campaign', ylabel='Count'>"
      ]
     },
     "execution_count": 85,
     "metadata": {},
     "output_type": "execute_result"
    },
    {
     "data": {
      "image/png": "[encoded data removed]",
      "text/plain": [
       "<Figure size 720x432 with 1 Axes>"
      ]
     },
     "metadata": {},
     "output_type": "display_data"
    }
   ],
   "source": [
    "fig = plt.figure(figsize=[10, 6])\n",
    "sns.histplot(df['campaign'], bins=42, kde = True, kde_kws={'bw_adjust': 3}) # KDE = 3 уже достаточно для нормального сглаживания"
   ]
  },
  {
   "cell_type": "code",
   "execution_count": 86,
   "id": "60565636",
   "metadata": {},
   "outputs": [],
   "source": [
    "feature = df['campaign']"
   ]
  },
  {
   "cell_type": "code",
   "execution_count": 87,
   "id": "b47ee7ab",
   "metadata": {},
   "outputs": [
    {
     "data": {
      "image/png": "[encoded data removed]",
      "text/plain": [
       "<Figure size 720x432 with 1 Axes>"
      ]
     },
     "metadata": {},
     "output_type": "display_data"
    }
   ],
   "source": [
    "fig = plt.figure(figsize=[10, 6])\n",
    "sns.histplot(feature, bins=20, kde=True, kde_kws={'bw_adjust': 3}, color='gray')\n",
    "plt.axvline(x=feature.mean(), color='purple', linestyle='--', label = f'mean = {round(feature.mean(), 2)}')\n",
    "plt.axvline(x=feature.median(), color='orange', linestyle='-', label = f'median = {feature.median()}')\n",
    "plt.legend()\n",
    "plt.title('Client contacts distribution', size=16)\n",
    "plt.show()"
   ]
  },
  {
   "cell_type": "code",
   "execution_count": 88,
   "id": "68bd5736",
   "metadata": {},
   "outputs": [
    {
     "name": "stdout",
     "output_type": "stream",
     "text": [
      "Коэффициент асимметрии распределения контактов с клиентом равен 4.76\n",
      "Коэффициент эксцесса распределения контактов с клиентом равен 36.97\n"
     ]
    }
   ],
   "source": [
    "print(f'Коэффициент асимметрии распределения контактов с клиентом равен {round(feature.skew(), 2)}')\n",
    "print(f'Коэффициент эксцесса распределения контактов с клиентом равен {round(feature.kurtosis(), 2)}')"
   ]
  },
  {
   "cell_type": "code",
   "execution_count": 89,
   "id": "1bd7097f",
   "metadata": {},
   "outputs": [
    {
     "data": {
      "image/png": "[encoded data removed]",
      "text/plain": [
       "<Figure size 864x360 with 1 Axes>"
      ]
     },
     "metadata": {},
     "output_type": "display_data"
    }
   ],
   "source": [
    "fig = plt.figure(figsize=[12, 5])\n",
    "sns.kdeplot(feature, bw_adjust=0.5, color='orange', label = '0.5')\n",
    "sns.kdeplot(feature, bw_adjust=1.5, color='purple', label = '1.5')\n",
    "sns.kdeplot(feature, bw_adjust=2.5, color='black', label = '2.5')\n",
    "plt.legend(title = 'KDE coef')\n",
    "plt.title('KDE for client contacts distribution', size=20)\n",
    "plt.show()"
   ]
  },
  {
   "cell_type": "markdown",
   "id": "69c32aa5",
   "metadata": {},
   "source": [
    "Сглаживающий параметр равный 2.5 уже дает хороший результат (гладкий график)"
   ]
  },
  {
   "cell_type": "code",
   "execution_count": 90,
   "id": "d6c77087",
   "metadata": {},
   "outputs": [
    {
     "name": "stderr",
     "output_type": "stream",
     "text": [
      "C:\\Users\\Eugene\\anaconda3\\lib\\site-packages\\statsmodels\\graphics\\gofplots.py:993: UserWarning: marker is redundantly defined by the 'marker' keyword argument and the fmt string \"bo\" (-> marker='o'). The keyword argument will take precedence.\n",
      "  ax.plot(x, y, fmt, **plot_style)\n"
     ]
    },
    {
     "data": {
      "image/png": "[encoded data removed]",
      "text/plain": [
       "<Figure size 432x288 with 1 Axes>"
      ]
     },
     "metadata": {},
     "output_type": "display_data"
    }
   ],
   "source": [
    "sm.qqplot(feature, stats.norm(feature.median(), feature.std()), line='45', marker='.')\n",
    "plt.show()"
   ]
  },
  {
   "cell_type": "markdown",
   "id": "c877f890",
   "metadata": {},
   "source": [
    "И близко не прямая линия, было и до этого понятно, что выборка не из нормального распределения"
   ]
  },
  {
   "cell_type": "markdown",
   "id": "96b17f3a",
   "metadata": {},
   "source": [
    "## Гипотезы"
   ]
  },
  {
   "cell_type": "code",
   "execution_count": 91,
   "id": "364e98a5",
   "metadata": {},
   "outputs": [],
   "source": [
    "pos_camp = df.loc[df['y'] == 1, 'campaign']\n",
    "neg_camp = df.loc[df['y'] == 0, 'campaign']"
   ]
  },
  {
   "cell_type": "code",
   "execution_count": 92,
   "id": "0b77322c",
   "metadata": {},
   "outputs": [
    {
     "data": {
      "text/plain": [
       "MannwhitneyuResult(statistic=75391969.5, pvalue=1.8146913584229173e-38)"
      ]
     },
     "execution_count": 92,
     "metadata": {},
     "output_type": "execute_result"
    }
   ],
   "source": [
    "stats.mannwhitneyu(pos_camp, neg_camp)"
   ]
  },
  {
   "cell_type": "markdown",
   "id": "10f73e79",
   "metadata": {},
   "source": [
    "Количество звонков согласившимся и отказавшимся не принадлежат к одному распределению"
   ]
  },
  {
   "cell_type": "code",
   "execution_count": 93,
   "id": "3f6dc701",
   "metadata": {},
   "outputs": [
    {
     "data": {
      "text/plain": [
       "KstestResult(statistic=0.08082049879151998, pvalue=7.804890952010272e-24)"
      ]
     },
     "execution_count": 93,
     "metadata": {},
     "output_type": "execute_result"
    }
   ],
   "source": [
    "stats.kstest(pos_camp, neg_camp)"
   ]
  },
  {
   "cell_type": "markdown",
   "id": "b2471c0d",
   "metadata": {},
   "source": [
    "Количество звонков согласившимся и отказавшимся не являются идентичными"
   ]
  },
  {
   "cell_type": "code",
   "execution_count": 94,
   "id": "b3312221",
   "metadata": {},
   "outputs": [
    {
     "data": {
      "text/plain": [
       "KstestResult(statistic=0.8413447460685429, pvalue=0.0)"
      ]
     },
     "execution_count": 94,
     "metadata": {},
     "output_type": "execute_result"
    }
   ],
   "source": [
    "stats.kstest(feature, 'norm')"
   ]
  },
  {
   "cell_type": "markdown",
   "id": "dc35de67",
   "metadata": {},
   "source": [
    "Количество звонков согласившимся и отказавшимся не распределено нормально"
   ]
  },
  {
   "cell_type": "code",
   "execution_count": 95,
   "id": "151f5a81",
   "metadata": {},
   "outputs": [
    {
     "data": {
      "text/plain": [
       "KruskalResult(statistic=166.83794105975488, pvalue=3.629350163987945e-38)"
      ]
     },
     "execution_count": 95,
     "metadata": {},
     "output_type": "execute_result"
    }
   ],
   "source": [
    "stats.kruskal(pos_camp, neg_camp)"
   ]
  },
  {
   "cell_type": "markdown",
   "id": "3d5d2ed1",
   "metadata": {},
   "source": [
    "Медианы количества контактов с согласившимися и отказавшимися не равны"
   ]
  },
  {
   "cell_type": "code",
   "execution_count": null,
   "id": "aab5d2ff",
   "metadata": {},
   "outputs": [],
   "source": []
  }
 ],
 "metadata": {
  "kernelspec": {
   "display_name": "Python 3",
   "language": "python",
   "name": "python3"
  },
  "language_info": {
   "codemirror_mode": {
    "name": "ipython",
    "version": 3
   },
   "file_extension": ".py",
   "mimetype": "text/x-python",
   "name": "python",
   "nbconvert_exporter": "python",
   "pygments_lexer": "ipython3",
   "version": "3.8.11"
  },
  "varInspector": {
   "cols": {
    "lenName": 16,
    "lenType": 16,
    "lenVar": 40
   },
   "kernels_config": {
    "python": {
     "delete_cmd_postfix": "",
     "delete_cmd_prefix": "del ",
     "library": "var_list.py",
     "varRefreshCmd": "print(var_dic_list())"
    },
    "r": {
     "delete_cmd_postfix": ") ",
     "delete_cmd_prefix": "rm(",
     "library": "var_list.r",
     "varRefreshCmd": "cat(var_dic_list()) "
    }
   },
   "types_to_exclude": [
    "module",
    "function",
    "builtin_function_or_method",
    "instance",
    "_Feature"
   ],
   "window_display": false
  }
 },
 "nbformat": 4,
 "nbformat_minor": 5
}
