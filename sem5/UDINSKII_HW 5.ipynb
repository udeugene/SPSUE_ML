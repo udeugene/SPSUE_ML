{
 "cells": [
  {
   "cell_type": "code",
   "execution_count": 1,
   "id": "9b1de4fb",
   "metadata": {
    "ExecuteTime": {
     "end_time": "2021-11-08T22:02:22.824760Z",
     "start_time": "2021-11-08T22:02:22.401998Z"
    }
   },
   "outputs": [],
   "source": [
    "import numpy as np\n",
    "import pandas as pd\n",
    "\n",
    "from sklearn.impute import KNNImputer\n",
    "from sklearn.preprocessing import StandardScaler\n",
    "\n",
    "from sklearn.preprocessing import OneHotEncoder\n",
    "from category_encoders import TargetEncoder, OrdinalEncoder, BinaryEncoder\n",
    "\n",
    "from sklearn.preprocessing import FunctionTransformer\n",
    "\n",
    "from sklearn.pipeline import Pipeline\n",
    "from sklearn.compose import ColumnTransformer\n",
    "\n",
    "%matplotlib inline\n",
    "from matplotlib import style\n",
    "style.use('ggplot')\n",
    "style.use('seaborn-ticks')\n",
    "\n",
    "import warnings\n",
    "warnings.simplefilter(action='ignore', category=FutureWarning) # чтоб не ругался"
   ]
  },
  {
   "cell_type": "markdown",
   "id": "bbda9521",
   "metadata": {},
   "source": [
    "Для использования PCA надо стандартизовать данные. Частично это было сделано в предыдущей работе. Возьмем тот же код, только хочется внести некоторые поправки. В прошлый раз я зачем-то поменял все unknownы на NA, это не очень правильно по отношению к фиче default, там их слишком много, примерно четверть.Кроме того, были стандартизованы не все признаки, поменяем MinMaxScaler на Standart, оставим Unknown в default как отдельную группу и датасет можно пробовать использовать для понижения размерности. Я не очень понимаю, можно ли так делать с преобразованными категориальными и порядковыми признаками, вообще, кажется, что это не очень правильно, но и распределение практически у всех признаков не является нормальным, поэтому попробуем сделать именно так."
   ]
  },
  {
   "cell_type": "code",
   "execution_count": 2,
   "id": "2d5ef077",
   "metadata": {
    "ExecuteTime": {
     "end_time": "2021-11-08T22:02:22.994283Z",
     "start_time": "2021-11-08T22:02:22.826730Z"
    }
   },
   "outputs": [],
   "source": [
    "df = pd.read_csv('bank.csv', delimiter = ';', na_values = 'unknown')\n",
    "df['default'].fillna('unknown', inplace = True)\n",
    "df.drop('pdays',axis = 1, inplace = True)"
   ]
  },
  {
   "cell_type": "code",
   "execution_count": 3,
   "id": "91eec21a",
   "metadata": {
    "ExecuteTime": {
     "end_time": "2021-11-08T22:02:23.025200Z",
     "start_time": "2021-11-08T22:02:22.997276Z"
    }
   },
   "outputs": [],
   "source": [
    "df['y'].replace({'yes':1, 'no':0}, inplace = True)"
   ]
  },
  {
   "cell_type": "code",
   "execution_count": 4,
   "id": "7c4e49cd",
   "metadata": {
    "ExecuteTime": {
     "end_time": "2021-11-08T22:02:23.041156Z",
     "start_time": "2021-11-08T22:02:23.027196Z"
    }
   },
   "outputs": [],
   "source": [
    "data_types = df.dtypes\n",
    "int_cols = [df.columns[i] for i in range(df.shape[1]) if data_types[i] == 'int64']\n",
    "float_cols = [df.columns[i] for i in range(df.shape[1]) if data_types[i] == 'float64']\n",
    "cat_cols = [df.columns[i] for i in range(df.shape[1]) if data_types[i] == 'O']"
   ]
  },
  {
   "cell_type": "code",
   "execution_count": 5,
   "id": "f55c462f",
   "metadata": {
    "ExecuteTime": {
     "end_time": "2021-11-08T22:02:23.056132Z",
     "start_time": "2021-11-08T22:02:23.043151Z"
    }
   },
   "outputs": [],
   "source": [
    "mon_num = {'mar':1, 'apr':2, 'may':3, 'jun': 4, 'jul':5, 'aug':6, 'nov':7, 'sep':7, 'oct':8, 'nov':9, 'dec':10}\n",
    "day_num = {day:i for day, i in zip(df['day_of_week'].unique(), range(1, 6))}\n",
    "education_sorted = {'illiterate': 0, 'unknown': 1, 'basic.4y': 2,\n",
    "                    'basic.6y': 3, 'basic.9y': 4, 'high.school': 5,\n",
    "                    'professional.course': 6, 'university.degree': 7}"
   ]
  },
  {
   "cell_type": "code",
   "execution_count": 6,
   "id": "90c12d07",
   "metadata": {
    "ExecuteTime": {
     "end_time": "2021-11-08T22:02:23.072081Z",
     "start_time": "2021-11-08T22:02:23.059116Z"
    }
   },
   "outputs": [],
   "source": [
    "ord_mon = OrdinalEncoder(mapping=[{'col': 'month', 'mapping': mon_num}])\n",
    "ord_day =  OrdinalEncoder(mapping=[{'col': 'day_of_week', 'mapping': day_num}])\n",
    "ord_edu = OrdinalEncoder(mapping=[{'col': 'education', 'mapping': education_sorted}])\n",
    "\n",
    "cat_steps = [('encoder', BinaryEncoder(drop_invariant = True)),\n",
    "            ('imputer', KNNImputer(weights = 'distance')),\n",
    "              ('scaler', StandardScaler())\n",
    "             ]\n"
   ]
  },
  {
   "cell_type": "code",
   "execution_count": 7,
   "id": "6303d402",
   "metadata": {
    "ExecuteTime": {
     "end_time": "2021-11-08T22:02:23.088031Z",
     "start_time": "2021-11-08T22:02:23.074069Z"
    }
   },
   "outputs": [],
   "source": [
    "transf = FunctionTransformer(func=np.log1p, inverse_func=np.expm1)\n",
    "\n",
    "transformer = ColumnTransformer(\n",
    "    [\n",
    "    ('encode_scale', Pipeline(steps = cat_steps), list(set(cat_cols)-set(['day_of_week', 'month', 'y']))),\n",
    "    ('month', Pipeline(steps = [('ord_mon', ord_mon) , ('scale_mon', StandardScaler())]), 'month'),\n",
    "    ('day', Pipeline(steps = [('ord_day', ord_day), ('scale_day', StandardScaler())]), 'day_of_week'),\n",
    "    ('scale', StandardScaler(), ['age', 'duration', *float_cols, 'previous', 'campaign'])\n",
    "    ]\n",
    ")\n",
    "    "
   ]
  },
  {
   "cell_type": "code",
   "execution_count": 8,
   "id": "a68cf973",
   "metadata": {
    "ExecuteTime": {
     "end_time": "2021-11-08T22:02:25.637126Z",
     "start_time": "2021-11-08T22:02:23.092022Z"
    }
   },
   "outputs": [],
   "source": [
    "transformer.fit(df, df['y']);\n",
    "data = transformer.transform(df);\n",
    "pd.DataFrame(data).to_csv('data_scaled.csv', index = False)"
   ]
  },
  {
   "cell_type": "markdown",
   "id": "09fb7de9",
   "metadata": {},
   "source": [
    "## PCA"
   ]
  },
  {
   "cell_type": "code",
   "execution_count": 9,
   "id": "0d1a2bdd",
   "metadata": {
    "ExecuteTime": {
     "end_time": "2021-11-08T22:02:25.852289Z",
     "start_time": "2021-11-08T22:02:25.641081Z"
    }
   },
   "outputs": [],
   "source": [
    "from sklearn.decomposition import PCA\n",
    "\n",
    "X = data\n",
    "Y = df['y']\n",
    "\n",
    "pca = PCA()\n",
    "PC = pca.fit_transform(X)\n",
    "\n",
    "var_list = pca.explained_variance_ratio_.round(2)"
   ]
  },
  {
   "cell_type": "code",
   "execution_count": 10,
   "id": "53cc1487",
   "metadata": {
    "ExecuteTime": {
     "end_time": "2021-11-08T22:02:25.868250Z",
     "start_time": "2021-11-08T22:02:25.855283Z"
    }
   },
   "outputs": [
    {
     "data": {
      "text/plain": [
       "22"
      ]
     },
     "execution_count": 10,
     "metadata": {},
     "output_type": "execute_result"
    }
   ],
   "source": [
    "cum = var_list.cumsum()\n",
    "len(cum[cum < 0.95])+1"
   ]
  },
  {
   "cell_type": "markdown",
   "id": "f8361bdb",
   "metadata": {},
   "source": [
    "С помощью PCA удалось избавиться от 11 признаков с потерей 5% объясненной дисперсии. Но без учета кодировки неколичественных переменных признаков было 19. Это может быть из-за выбросов, попробуем их устранить.  \n",
    "Воспользуемся методом LOF (Local Outlier Factor). Метод заключается в оценке плотности наблюдений по сравнению со своими соседями. Будем искать выбросы на числовых признаках.  "
   ]
  },
  {
   "cell_type": "code",
   "execution_count": 11,
   "id": "4013911e",
   "metadata": {
    "ExecuteTime": {
     "end_time": "2021-11-08T22:02:25.899776Z",
     "start_time": "2021-11-08T22:02:25.870242Z"
    }
   },
   "outputs": [],
   "source": [
    "scaler = StandardScaler()\n",
    "df_out = scaler.fit_transform(df[[*int_cols, *float_cols]])"
   ]
  },
  {
   "cell_type": "code",
   "execution_count": 12,
   "id": "cc41c4fb",
   "metadata": {
    "ExecuteTime": {
     "end_time": "2021-11-08T22:02:25.915520Z",
     "start_time": "2021-11-08T22:02:25.903766Z"
    }
   },
   "outputs": [],
   "source": [
    "from sklearn.neighbors import LocalOutlierFactor"
   ]
  },
  {
   "cell_type": "code",
   "execution_count": 13,
   "id": "a99543ef",
   "metadata": {
    "ExecuteTime": {
     "end_time": "2021-11-08T22:02:28.774820Z",
     "start_time": "2021-11-08T22:02:25.918512Z"
    }
   },
   "outputs": [],
   "source": [
    "lof = LocalOutlierFactor(n_neighbors= 20)\n",
    "outliers_data = lof.fit_predict(df_out)\n",
    "mask = outliers_data != -1"
   ]
  },
  {
   "cell_type": "code",
   "execution_count": 14,
   "id": "d60ffc53",
   "metadata": {
    "ExecuteTime": {
     "end_time": "2021-11-08T22:02:29.331291Z",
     "start_time": "2021-11-08T22:02:28.776780Z"
    }
   },
   "outputs": [],
   "source": [
    "df1 = df[mask]\n",
    "transformer.fit(df1, df['y']);\n",
    "data1 = transformer.transform(df1);\n",
    "\n",
    "X1 = data1\n",
    "\n",
    "pca1 = PCA()\n",
    "PC1 = pca1.fit_transform(X1)\n",
    "\n",
    "var_list1 = pca1.explained_variance_ratio_.round(2)"
   ]
  },
  {
   "cell_type": "code",
   "execution_count": 15,
   "id": "83cfecd2",
   "metadata": {
    "ExecuteTime": {
     "end_time": "2021-11-08T22:02:29.346285Z",
     "start_time": "2021-11-08T22:02:29.333285Z"
    }
   },
   "outputs": [
    {
     "data": {
      "text/plain": [
       "21"
      ]
     },
     "execution_count": 15,
     "metadata": {},
     "output_type": "execute_result"
    }
   ],
   "source": [
    "cum = var_list.cumsum()\n",
    "len(cum[cum <= 0.95])"
   ]
  },
  {
   "cell_type": "code",
   "execution_count": 16,
   "id": "45660f88",
   "metadata": {
    "ExecuteTime": {
     "end_time": "2021-11-08T22:02:29.362208Z",
     "start_time": "2021-11-08T22:02:29.349242Z"
    }
   },
   "outputs": [
    {
     "data": {
      "text/plain": [
       "True"
      ]
     },
     "execution_count": 16,
     "metadata": {},
     "output_type": "execute_result"
    }
   ],
   "source": [
    "(var_list == var_list1).all() # по-видимому дело не в выбросах"
   ]
  },
  {
   "cell_type": "markdown",
   "id": "ba6f5c01",
   "metadata": {},
   "source": [
    "Ради интереса посмотрим, как PCA сработает только на числовых признаках"
   ]
  },
  {
   "cell_type": "code",
   "execution_count": 17,
   "id": "75e0d28d",
   "metadata": {
    "ExecuteTime": {
     "end_time": "2021-11-08T22:02:29.408084Z",
     "start_time": "2021-11-08T22:02:29.365203Z"
    }
   },
   "outputs": [],
   "source": [
    "X_num = scaler.fit_transform(df1[[*int_cols, *float_cols]])"
   ]
  },
  {
   "cell_type": "code",
   "execution_count": 18,
   "id": "4c4ce7a4",
   "metadata": {
    "ExecuteTime": {
     "end_time": "2021-11-08T22:02:29.439003Z",
     "start_time": "2021-11-08T22:02:29.410080Z"
    }
   },
   "outputs": [],
   "source": [
    "pca_num = PCA()\n",
    "PC1 = pca_num.fit_transform(X_num)\n",
    "var_list_num = pca_num.explained_variance_ratio_.round(2)"
   ]
  },
  {
   "cell_type": "code",
   "execution_count": 19,
   "id": "173ab747",
   "metadata": {
    "ExecuteTime": {
     "end_time": "2021-11-08T22:02:29.454959Z",
     "start_time": "2021-11-08T22:02:29.441994Z"
    }
   },
   "outputs": [
    {
     "data": {
      "text/plain": [
       "6"
      ]
     },
     "execution_count": 19,
     "metadata": {},
     "output_type": "execute_result"
    }
   ],
   "source": [
    "cum_num = var_list_num.cumsum()\n",
    "len(cum_num[cum_num <= 0.95])"
   ]
  },
  {
   "cell_type": "code",
   "execution_count": 20,
   "id": "8adfebf6",
   "metadata": {
    "ExecuteTime": {
     "end_time": "2021-11-08T22:02:29.469921Z",
     "start_time": "2021-11-08T22:02:29.457952Z"
    }
   },
   "outputs": [
    {
     "data": {
      "text/plain": [
       "(0.65625, 0.6)"
      ]
     },
     "execution_count": 20,
     "metadata": {},
     "output_type": "execute_result"
    }
   ],
   "source": [
    "len(cum[cum <= 0.95])/len(var_list), len(cum_num[cum_num <= 0.95])/len(var_list_num) # PCA работает примерно одинаково "
   ]
  },
  {
   "cell_type": "code",
   "execution_count": 21,
   "id": "fa0bceb1",
   "metadata": {
    "ExecuteTime": {
     "end_time": "2021-11-08T22:02:30.031420Z",
     "start_time": "2021-11-08T22:02:29.472911Z"
    },
    "scrolled": false
   },
   "outputs": [
    {
     "data": {
      "image/png": "[encoded data removed]",
      "text/plain": [
       "<Figure size 1440x504 with 2 Axes>"
      ]
     },
     "metadata": {},
     "output_type": "display_data"
    }
   ],
   "source": [
    "sns.set_style(\"darkgrid\")\n",
    "fig, (ax1, ax2) = plt.subplots(1, 2, figsize = (20, 7))\n",
    "sns.lineplot(x = range(1, len(cum) + 1), y = cum, ax = ax1)\n",
    "sns.lineplot(x = range(1, len(cum_num) + 1), y = cum_num, ax = ax2, color='blue')\n",
    "\n",
    "ax1.set_title('Components amount and explained variance (all features)', fontsize=20)\n",
    "ax2.set_title('Components amount and explained variance (numerical features)', fontsize=20)\n",
    "ax1.axhline(0.95, ls='--', c = 'orange'), ax2.axhline(0.95, ls='--', c = 'orange')\n",
    "\n",
    "\n",
    "ax1.text(-2, 0.95, '0.95', fontsize = 11), ax2.text(0, 0.95, '0.95', fontsize = 11)\n",
    "ax1.axvline(x = len(cum[cum <= 0.95]) + 1, ls='--', c = 'pink'), ax2.axvline(x = len(cum_num[cum_num <= 0.95]) + 1, ls='--', c = 'pink')\n",
    "ax1.text(len(cum[cum <= 0.95] + 1), 0.075, f'{len(cum[cum <= 0.95]) + 1}', fontsize = 14), ax2.text(len(cum_num[cum_num <= 0.95])+1, 0.32, f'{len(cum_num[cum_num <= 0.95]) + 1}', fontsize = 14)\n",
    "\n",
    "        \n",
    "ax1.set_ylabel('Cumulative variance percentage'), ax2.set_ylabel('Cumulative variance percentage')\n",
    "ax1.set_xlabel('Number of components'), ax2.set_xlabel('Number of components');\n"
   ]
  },
  {
   "cell_type": "markdown",
   "id": "9a344fab",
   "metadata": {},
   "source": [
    "Для всех признаков линия достаточно плавная, по аналогии с методом каменистой осыпи определить сложно, в случае числовых признаков линия имеет не слишком заметный излом при 6 компонентах"
   ]
  },
  {
   "cell_type": "code",
   "execution_count": null,
   "id": "7d7aed67",
   "metadata": {},
   "outputs": [],
   "source": []
  }
 ],
 "metadata": {
  "kernelspec": {
   "display_name": "Python 3",
   "language": "python",
   "name": "python3"
  },
  "language_info": {
   "codemirror_mode": {
    "name": "ipython",
    "version": 3
   },
   "file_extension": ".py",
   "mimetype": "text/x-python",
   "name": "python",
   "nbconvert_exporter": "python",
   "pygments_lexer": "ipython3",
   "version": "3.8.11"
  },
  "varInspector": {
   "cols": {
    "lenName": 16,
    "lenType": 16,
    "lenVar": 40
   },
   "kernels_config": {
    "python": {
     "delete_cmd_postfix": "",
     "delete_cmd_prefix": "del ",
     "library": "var_list.py",
     "varRefreshCmd": "print(var_dic_list())"
    },
    "r": {
     "delete_cmd_postfix": ") ",
     "delete_cmd_prefix": "rm(",
     "library": "var_list.r",
     "varRefreshCmd": "cat(var_dic_list()) "
    }
   },
   "oldHeight": 122,
   "position": {
    "height": "40px",
    "left": "1650px",
    "right": "20px",
    "top": "120px",
    "width": "250px"
   },
   "types_to_exclude": [
    "module",
    "function",
    "builtin_function_or_method",
    "instance",
    "_Feature"
   ],
   "varInspector_section_display": "none",
   "window_display": true
  }
 },
 "nbformat": 4,
 "nbformat_minor": 5
}
