{
 "cells": [
  {
   "cell_type": "code",
   "execution_count": 1,
   "id": "1da6cb7d",
   "metadata": {
    "ExecuteTime": {
     "end_time": "2021-11-23T20:01:50.127551Z",
     "start_time": "2021-11-23T20:01:49.020287Z"
    }
   },
   "outputs": [],
   "source": [
    "import matplotlib\n",
    "import matplotlib.pyplot as plt\n",
    "import seaborn as sns\n",
    "from matplotlib import style\n",
    "matplotlib.rcParams.update(matplotlib.rcParamsDefault)\n",
    "%matplotlib inline\n",
    "style.use('bmh')\n",
    "\n",
    "import pandas as pd\n",
    "pd.options.mode.chained_assignment = None\n",
    "import numpy as np\n"
   ]
  },
  {
   "cell_type": "markdown",
   "id": "fa38f1f9",
   "metadata": {},
   "source": [
    "Предобработка из прошлого"
   ]
  },
  {
   "cell_type": "code",
   "execution_count": 3,
   "id": "2d5ef077",
   "metadata": {
    "ExecuteTime": {
     "end_time": "2021-11-23T20:01:50.298751Z",
     "start_time": "2021-11-23T20:01:50.146339Z"
    }
   },
   "outputs": [],
   "source": [
    "df = pd.read_csv('bank.csv', delimiter = ';', na_values = 'unknown')\n",
    "df['default'].fillna('unknown', inplace = True)\n",
    "df.drop('pdays',axis = 1, inplace = True)\n",
    "\n",
    "df['y'].replace({'yes':1, 'no':0}, inplace = True)\n",
    "\n",
    "data_types = df.dtypes\n",
    "int_cols = [df.columns[i] for i in range(df.shape[1]) if data_types[i] == 'int64']\n",
    "float_cols = [df.columns[i] for i in range(df.shape[1]) if data_types[i] == 'float64']\n",
    "cat_cols = [df.columns[i] for i in range(df.shape[1]) if data_types[i] == 'O']\n",
    "\n",
    "mon_num = {'mar':1, 'apr':2, 'may':3, 'jun': 4, 'jul':5, 'aug':6, 'nov':7, 'sep':7, 'oct':8, 'nov':9, 'dec':10}\n",
    "day_num = {day:i for day, i in zip(df['day_of_week'].unique(), range(1, 6))}\n",
    "education_sorted = {'illiterate': 0, 'unknown': 1, 'basic.4y': 2,\n",
    "                    'basic.6y': 3, 'basic.9y': 4, 'high.school': 5,\n",
    "                    'professional.course': 6, 'university.degree': 7}\n",
    "\n",
    "ord_mon = OrdinalEncoder(mapping=[{'col': 'month', 'mapping': mon_num}])\n",
    "ord_day =  OrdinalEncoder(mapping=[{'col': 'day_of_week', 'mapping': day_num}])\n",
    "ord_edu = OrdinalEncoder(mapping=[{'col': 'education', 'mapping': education_sorted}])\n",
    "\n",
    "cat_steps = [('encoder', BinaryEncoder(drop_invariant = True)),\n",
    "            ('imputer', KNNImputer(weights = 'distance')),\n",
    "              ('scaler', StandardScaler())\n",
    "             ]\n",
    "\n",
    "\n",
    "transf = FunctionTransformer(func=np.log1p, inverse_func=np.expm1)\n",
    "\n",
    "transformer = ColumnTransformer(\n",
    "    [\n",
    "    ('encode_scale', Pipeline(steps = cat_steps), list(set(cat_cols)-set(['day_of_week', 'month', 'y']))),\n",
    "    ('month', Pipeline(steps = [('ord_mon', ord_mon) , ('scale_mon', StandardScaler())]), 'month'),\n",
    "    ('day', Pipeline(steps = [('ord_day', ord_day), ('scale_day', StandardScaler())]), 'day_of_week'),\n",
    "    ('scale', StandardScaler(), ['age', 'duration', *float_cols, 'previous', 'campaign'])\n",
    "    ]\n",
    ")\n",
    "    "
   ]
  },
  {
   "cell_type": "code",
   "execution_count": 4,
   "id": "7e9d1a90",
   "metadata": {
    "ExecuteTime": {
     "end_time": "2021-11-23T20:01:50.733623Z",
     "start_time": "2021-11-23T20:01:50.300747Z"
    }
   },
   "outputs": [
    {
     "name": "stderr",
     "output_type": "stream",
     "text": [
      "C:\\Users\\Eugene\\anaconda3\\lib\\site-packages\\category_encoders\\utils.py:21: FutureWarning: is_categorical is deprecated and will be removed in a future version.  Use is_categorical_dtype instead\n",
      "  elif pd.api.types.is_categorical(cols):\n",
      "C:\\Users\\Eugene\\anaconda3\\lib\\site-packages\\category_encoders\\basen.py:236: FutureWarning: In a future version of pandas all arguments of DataFrame.drop except for the argument 'labels' will be keyword-only\n",
      "  X_out.drop(col, 1, inplace=True)\n",
      "C:\\Users\\Eugene\\anaconda3\\lib\\site-packages\\category_encoders\\basen.py:236: FutureWarning: In a future version of pandas all arguments of DataFrame.drop except for the argument 'labels' will be keyword-only\n",
      "  X_out.drop(col, 1, inplace=True)\n"
     ]
    }
   ],
   "source": [
    "X_train, X_test, y_train, y_test = train_test_split(df, df['y'], test_size = 0.2, random_state = 69)\n",
    "\n",
    "X_train = transformer.fit_transform(X_train);\n",
    "X_test = transformer.transform(X_test);"
   ]
  },
  {
   "cell_type": "markdown",
   "id": "50e363cf",
   "metadata": {
    "ExecuteTime": {
     "end_time": "2021-11-23T18:57:05.203978Z",
     "start_time": "2021-11-23T18:57:05.198966Z"
    }
   },
   "source": [
    "Опять же возьмем удивительную функцию из прошлой домашки и переберем сразу все."
   ]
  },
  {
   "cell_type": "code",
   "execution_count": 5,
   "id": "7adafe8d",
   "metadata": {
    "ExecuteTime": {
     "end_time": "2021-11-23T20:01:50.749148Z",
     "start_time": "2021-11-23T20:01:50.735066Z"
    },
    "code_folding": []
   },
   "outputs": [],
   "source": [
    "def search_best_model(X, y, model, param_grid, param_scale='ordinary', draw=True, multi = False, scoring = 'roc_auc'):\n",
    "    \n",
    "    CV_model = GridSearchCV(estimator=model, \n",
    "                            param_grid=param_grid,\n",
    "                            cv=3, \n",
    "                            scoring= scoring,\n",
    "                            n_jobs=1, \n",
    "                            verbose=1,\n",
    "                           refit = False)\n",
    "    CV_model.fit(X, y)\n",
    "\n",
    "    return CV_model"
   ]
  },
  {
   "cell_type": "code",
   "execution_count": 23,
   "id": "f321df55",
   "metadata": {
    "ExecuteTime": {
     "end_time": "2021-11-23T20:42:20.390453Z",
     "start_time": "2021-11-23T20:42:20.373500Z"
    }
   },
   "outputs": [],
   "source": [
    "models = [KNeighborsClassifier(),\n",
    "          DecisionTreeClassifier(),\n",
    "          LogisticRegression(),\n",
    "          SVC(kernel = 'poly')]\n",
    "param_grids = [{'n_neighbors':np.array(np.linspace(4, 30, 8), dtype='int')},\n",
    "               {'max_depth': np.arange(1, 30)},\n",
    "               {'C':[0.0001, 0.001, 0.01, 0.1, 1, 10, 100, 1000]},\n",
    "                {'C':[0.001, 0.01, 0.1, 1, 10],\n",
    "                'degree': [2, 3, 4]}\n",
    "              ]\n"
   ]
  },
  {
   "cell_type": "code",
   "execution_count": 24,
   "id": "f7808dc9",
   "metadata": {
    "ExecuteTime": {
     "end_time": "2021-11-23T20:54:51.125632Z",
     "start_time": "2021-11-23T20:42:21.021968Z"
    },
    "scrolled": true
   },
   "outputs": [
    {
     "name": "stdout",
     "output_type": "stream",
     "text": [
      "Fitting 3 folds for each of 8 candidates, totalling 24 fits\n",
      "Fitting 3 folds for each of 29 candidates, totalling 87 fits\n",
      "Fitting 3 folds for each of 8 candidates, totalling 24 fits\n",
      "Fitting 3 folds for each of 15 candidates, totalling 45 fits\n"
     ]
    }
   ],
   "source": [
    "res = []\n",
    "for model, param_grid in zip(models, param_grids):\n",
    "    res.append(search_and_draw(X_train, y_train, model, param_grid, scoring = 'f1', draw = False))"
   ]
  },
  {
   "cell_type": "code",
   "execution_count": 36,
   "id": "378544df",
   "metadata": {
    "ExecuteTime": {
     "end_time": "2021-11-23T21:15:26.050131Z",
     "start_time": "2021-11-23T21:15:26.029536Z"
    }
   },
   "outputs": [
    {
     "data": {
      "text/plain": [
       "[{'n_neighbors': 7}, {'max_depth': 3}, {'C': 0.1}, {'C': 10, 'degree': 3}]"
      ]
     },
     "execution_count": 36,
     "metadata": {},
     "output_type": "execute_result"
    }
   ],
   "source": [
    "best_params = [model.best_params_ for model in res]\n",
    "best_score_test = [model.best_score_ for model in res]\n",
    "best_params"
   ]
  },
  {
   "cell_type": "code",
   "execution_count": 44,
   "id": "e941e7f3",
   "metadata": {
    "ExecuteTime": {
     "end_time": "2021-11-23T21:24:01.379579Z",
     "start_time": "2021-11-23T21:22:40.741812Z"
    }
   },
   "outputs": [
    {
     "data": {
      "text/plain": [
       "SVC(C=10, kernel='poly')"
      ]
     },
     "execution_count": 44,
     "metadata": {},
     "output_type": "execute_result"
    }
   ],
   "source": [
    "knn = KNeighborsClassifier(n_neighbors = 7)\n",
    "tree = DecisionTreeClassifier(max_depth = 3)\n",
    "lr = LogisticRegression(C = 0.1)\n",
    "svm = SVC(kernel = 'poly', C = 10, degree = 3)\n",
    "\n",
    "knn.fit(X_train, y_train)\n",
    "tree.fit(X_train, y_train)\n",
    "lr.fit(X_train, y_train)\n",
    "svm.fit(X_train, y_train)\n"
   ]
  },
  {
   "cell_type": "code",
   "execution_count": 45,
   "id": "53f1dc36",
   "metadata": {
    "ExecuteTime": {
     "end_time": "2021-11-23T21:24:18.976846Z",
     "start_time": "2021-11-23T21:24:12.692643Z"
    }
   },
   "outputs": [],
   "source": [
    "knn_y = knn.predict(X_test)\n",
    "tree_y = tree.predict(X_test)\n",
    "lr_y = lr.predict(X_test)\n",
    "svm_y = svm.predict(X_test)\n",
    "\n",
    "f_scores_test = [f1_score(y_test, y_pred) for y_pred in [knn_y, tree_y, lr_y, svm_y]]"
   ]
  },
  {
   "cell_type": "code",
   "execution_count": 47,
   "id": "7269fd0b",
   "metadata": {
    "ExecuteTime": {
     "end_time": "2021-11-23T21:27:07.711919Z",
     "start_time": "2021-11-23T21:27:07.696497Z"
    }
   },
   "outputs": [],
   "source": [
    "comparison = pd.DataFrame({'CV Train score': best_score_test,\n",
    "                         'Test score': f_scores_test},\n",
    "                         index = ['KNN', 'Tree', 'LR', 'SVM'])"
   ]
  },
  {
   "cell_type": "code",
   "execution_count": 48,
   "id": "43d1bbf6",
   "metadata": {
    "ExecuteTime": {
     "end_time": "2021-11-23T21:27:10.818217Z",
     "start_time": "2021-11-23T21:27:10.783310Z"
    }
   },
   "outputs": [
    {
     "data": {
      "text/html": [
       "<div>\n",
       "<style scoped>\n",
       "    .dataframe tbody tr th:only-of-type {\n",
       "        vertical-align: middle;\n",
       "    }\n",
       "\n",
       "    .dataframe tbody tr th {\n",
       "        vertical-align: top;\n",
       "    }\n",
       "\n",
       "    .dataframe thead th {\n",
       "        text-align: right;\n",
       "    }\n",
       "</style>\n",
       "<table border=\"1\" class=\"dataframe\">\n",
       "  <thead>\n",
       "    <tr style=\"text-align: right;\">\n",
       "      <th></th>\n",
       "      <th>CV Train score</th>\n",
       "      <th>Test score</th>\n",
       "    </tr>\n",
       "  </thead>\n",
       "  <tbody>\n",
       "    <tr>\n",
       "      <th>KNN</th>\n",
       "      <td>0.410593</td>\n",
       "      <td>0.412414</td>\n",
       "    </tr>\n",
       "    <tr>\n",
       "      <th>Tree</th>\n",
       "      <td>0.591211</td>\n",
       "      <td>0.579583</td>\n",
       "    </tr>\n",
       "    <tr>\n",
       "      <th>LR</th>\n",
       "      <td>0.502061</td>\n",
       "      <td>0.483981</td>\n",
       "    </tr>\n",
       "    <tr>\n",
       "      <th>SVM</th>\n",
       "      <td>0.500197</td>\n",
       "      <td>0.485660</td>\n",
       "    </tr>\n",
       "  </tbody>\n",
       "</table>\n",
       "</div>"
      ],
      "text/plain": [
       "      CV Train score  Test score\n",
       "KNN         0.410593    0.412414\n",
       "Tree        0.591211    0.579583\n",
       "LR          0.502061    0.483981\n",
       "SVM         0.500197    0.485660"
      ]
     },
     "execution_count": 48,
     "metadata": {},
     "output_type": "execute_result"
    }
   ],
   "source": [
    "comparison"
   ]
  },
  {
   "cell_type": "code",
   "execution_count": null,
   "id": "565cbb2b",
   "metadata": {},
   "outputs": [],
   "source": []
  }
 ],
 "metadata": {
  "kernelspec": {
   "display_name": "Python 3",
   "language": "python",
   "name": "python3"
  },
  "language_info": {
   "codemirror_mode": {
    "name": "ipython",
    "version": 3
   },
   "file_extension": ".py",
   "mimetype": "text/x-python",
   "name": "python",
   "nbconvert_exporter": "python",
   "pygments_lexer": "ipython3",
   "version": "3.8.11"
  },
  "varInspector": {
   "cols": {
    "lenName": 16,
    "lenType": 16,
    "lenVar": 40
   },
   "kernels_config": {
    "python": {
     "delete_cmd_postfix": "",
     "delete_cmd_prefix": "del ",
     "library": "var_list.py",
     "varRefreshCmd": "print(var_dic_list())"
    },
    "r": {
     "delete_cmd_postfix": ") ",
     "delete_cmd_prefix": "rm(",
     "library": "var_list.r",
     "varRefreshCmd": "cat(var_dic_list()) "
    }
   },
   "types_to_exclude": [
    "module",
    "function",
    "builtin_function_or_method",
    "instance",
    "_Feature"
   ],
   "window_display": true
  }
 },
 "nbformat": 4,
 "nbformat_minor": 5
}
